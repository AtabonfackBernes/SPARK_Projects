{
  "nbformat": 4,
  "nbformat_minor": 0,
  "metadata": {
    "colab": {
      "provenance": [],
      "include_colab_link": true
    },
    "kernelspec": {
      "display_name": "Python 3",
      "name": "python3"
    },
    "language_info": {
      "name": "python"
    }
  },
  "cells": [
    {
      "cell_type": "markdown",
      "metadata": {
        "id": "view-in-github",
        "colab_type": "text"
      },
      "source": [
        "<a href=\"https://colab.research.google.com/github/AtabonfackBernes/SPARK_Projects/blob/main/Workshop2022_1_Intro_to_Python.ipynb\" target=\"_parent\"><img src=\"https://colab.research.google.com/assets/colab-badge.svg\" alt=\"Open In Colab\"/></a>"
      ]
    },
    {
      "cell_type": "markdown",
      "metadata": {
        "id": "MWlbJg_H_1KL"
      },
      "source": [
        "# **Workshop 1: Intro to Python** \n",
        "### Instructors: Farhad Maleki\n",
        "### Acknoledgements: Yujing Zou, Luca Weishaupt, Hossein Jafarzadeh "
      ]
    },
    {
      "cell_type": "markdown",
      "metadata": {
        "id": "02NjwjC7jv7A"
      },
      "source": [
        "In the next 10 weeks, we will be using code demo in Google Colab during the workshops. \n",
        "\n",
        "If you would like to download Python and set it up on your own time, please visit our drop-in sessions during the week where our mentors can help you with that. "
      ]
    },
    {
      "cell_type": "markdown",
      "metadata": {
        "id": "iAJx7dIfGBqn"
      },
      "source": [
        "***Python*** is a beginner friendly programming language. It is a popular coding language whose syntax is similar to English which will be easy to pick up with some patience and practice! \n",
        "\n",
        "Our computers understand a limited number of instructions \n",
        "- varaibles = remember a number \n",
        "- operations = add, subtract, etc. values \n",
        "- comparison = compare 2 values i.e., equal, greater than, less than \n",
        "- loops = repeat a command \n",
        "- printing - write out a stored value \n",
        "- ...\n",
        "\n",
        "\n",
        "\n"
      ]
    },
    {
      "cell_type": "markdown",
      "source": [
        "The following resources have been heavily used to develop this tutorial\n",
        " - [Automate the Boring Stuff with Python](https://automatetheboringstuff.com/2e/)\n",
        " - [W3 School Python Tutorial](https://www.w3schools.com/python/)"
      ],
      "metadata": {
        "id": "8v-iHnc9gM2T"
      }
    },
    {
      "cell_type": "markdown",
      "source": [
        "## First program in python\n",
        "```python\n",
        "print('This is my first program in Python!')\n",
        "```\n",
        "> **Reminder**: to execute a cell = Shift + Enter your current cell. This is useful for Google Colab and Jupyter Notebook usage. \n",
        "Execute the following line:\n"
      ],
      "metadata": {
        "id": "C-xK6zRZi24P"
      }
    },
    {
      "cell_type": "code",
      "source": [
        "print('This is my first program in Python!')"
      ],
      "metadata": {
        "colab": {
          "base_uri": "https://localhost:8080/"
        },
        "id": "-WBDDxXljNbQ",
        "outputId": "89df1888-d36a-40a6-e88e-30b765005dad"
      },
      "execution_count": null,
      "outputs": [
        {
          "output_type": "stream",
          "name": "stdout",
          "text": [
            "This is my first program in Python!\n"
          ]
        }
      ]
    },
    {
      "cell_type": "markdown",
      "source": [
        "## Variables and Data type"
      ],
      "metadata": {
        "id": "Ua6kB--ROQMr"
      }
    },
    {
      "cell_type": "markdown",
      "source": [
        "Let's draw an analogy between a variable and a box. \n",
        "A variable could be like a box where each box contains a single value.\n",
        "Let's start with boxes that only hold a single value of a specific type.\n",
        "\n",
        "Here I have a variable name **spam** that has value of **42**\n",
        "\n",
        "![Variables are like box](https://automatetheboringstuff.com/2e/images/000026.jpg)"
      ],
      "metadata": {
        "id": "pyXLT7o-U4YK"
      }
    },
    {
      "cell_type": "markdown",
      "source": [
        ">A variable can have a short name (like x and y) or a more descriptive name (age, carname, total_volume).\n",
        ">\n",
        ">Rules for Python variables:\n",
        ">\n",
        "> - A variable name must start with a letter or the underscore character\n",
        ">\n",
        "> - A variable name cannot start with a number\n",
        ">\n",
        "> - A variable name can only contain alpha-numeric characters and underscores (A-z, 0-9, and _ )\n",
        "> - Variable names are case-sensitive (age, Age and AGE are three different variables)\n",
        "\n",
        "[Reference](https://www.w3schools.com/python/gloss_python_variable_names.asp)"
      ],
      "metadata": {
        "id": "VNImg-aEcx30"
      }
    },
    {
      "cell_type": "markdown",
      "source": [
        "Examples of **correct** names:\n",
        "- total\n",
        "- average\n",
        "- count\n",
        "- i\n",
        "- j\n",
        "- num_lines\n",
        "- _value"
      ],
      "metadata": {
        "id": "Wzb0rTMHeWsK"
      }
    },
    {
      "cell_type": "markdown",
      "source": [
        "Examples of **incorrect** names:\n",
        "- 7total\n",
        "- -average\n",
        "- customer count\n",
        "- i@\n",
        "- j&\n",
        "- num%lines\n",
        "- value!"
      ],
      "metadata": {
        "id": "4cPjGf_yfHlg"
      }
    },
    {
      "cell_type": "markdown",
      "source": [
        "###String\n",
        "Strings have type **str**"
      ],
      "metadata": {
        "id": "-eJbdlaA1BLO"
      }
    },
    {
      "cell_type": "code",
      "source": [
        "# Assigning value to variables\n",
        "student_name = 'Jhone'\n",
        "teacher_name = \"Jane\"\n",
        "text_1 = \"John's book\"\n",
        "text_2 = 'John said: \"He will go to school\"'\n",
        "text_3 = \"John said: \\\"He will go to school\\\"\"\n",
        "\n",
        "print(text_2)\n",
        "print(text_3)\n",
        "message = '''\n",
        "This is a multi line string.\n",
        "You can have a string containing several lines.\n",
        "'''\n",
        "another_message = \"\"\"\n",
        "This is another multiline string.\n",
        "You can have a string containing several lines.\n",
        "\"\"\"\n",
        "print(message)\n",
        "print(another_message)\n",
        "\n",
        "print(\n",
        "    type(student_name), type(text_1), type(text_2), type(text_3),\n",
        "    type(message), type(another_message)\n",
        "      )\n",
        "\n"
      ],
      "metadata": {
        "id": "J9jTX8gUf572",
        "colab": {
          "base_uri": "https://localhost:8080/"
        },
        "outputId": "66db8fcf-d100-4551-fd29-a624ba695c4f"
      },
      "execution_count": null,
      "outputs": [
        {
          "output_type": "stream",
          "name": "stdout",
          "text": [
            "John said: \"He will go to school\"\n",
            "John said: \"He will go to school\"\n",
            "\n",
            "This is a multi line string.\n",
            "You can have a string containing several lines.\n",
            "\n",
            "\n",
            "This is another multiline string.\n",
            "You can have a string containing several lines.\n",
            "\n",
            "<class 'str'> <class 'str'> <class 'str'> <class 'str'> <class 'str'> <class 'str'>\n"
          ]
        }
      ]
    },
    {
      "cell_type": "markdown",
      "source": [
        "### Formatting strings:"
      ],
      "metadata": {
        "id": "M-qd09mfkilk"
      }
    },
    {
      "cell_type": "code",
      "metadata": {
        "id": "rditCztfc63L",
        "colab": {
          "base_uri": "https://localhost:8080/"
        },
        "outputId": "63bbe90a-ad89-43ee-d143-b27f5f653ddc"
      },
      "source": [
        "## inserting values into a string using the f-string syntax\n",
        "year = 2 \n",
        "name = 'McMedHacks'\n",
        "sentence1 = f\"This is the {year}nd year that {name} is being held.\"\n",
        "print(sentence1)\n",
        "\n",
        "## inserting values into a string using the format method\n",
        "sentence2 = \"This is the {}nd year that {} is being held.\".format(year, name)\n",
        "print(sentence2)\n",
        "\n",
        "# \\n in an string is the new line and \\t is the tab\n",
        "x = '\\n\\nThis ' + 'is ' + 'one ' + 'way ' + 'to connect several strings.'\n",
        "print(x)\n",
        "print(type(x))"
      ],
      "execution_count": null,
      "outputs": [
        {
          "output_type": "stream",
          "name": "stdout",
          "text": [
            "This is the 2nd year that McMedHacks is being held.\n",
            "This is the 2nd year that McMedHacks is being held.\n",
            "\n",
            "\n",
            "This is one way to connect several strings.\n",
            "<class 'str'>\n"
          ]
        }
      ]
    },
    {
      "cell_type": "markdown",
      "metadata": {
        "id": "g9Vp5hc4bRvK"
      },
      "source": [
        "### String slicing\n",
        "\n",
        "> For an string variable ```s```, ```s[i:j]``` evaluates to the sub-string of ```s``` from the i-th character to (j-1)-th character\n",
        "\n",
        "> index starts at 0 in Python"
      ]
    },
    {
      "cell_type": "code",
      "metadata": {
        "colab": {
          "base_uri": "https://localhost:8080/"
        },
        "id": "83ynE9l8Vrez",
        "outputId": "ae326f21-b7bd-42a6-b882-a983e0d0c40d"
      },
      "source": [
        "# parts of a string can be selected and found using \"slicing\"\n",
        "\n",
        "me = \"[[I love Michael Jackson's music\"\n",
        "print(me[0])   # The first index\n",
        "print(me[0:5]) # letters from the first (0th index) character to the 5th (4th index) character\n",
        "print(me[-1])  # the last character \n",
        "print(me[4:])  # the fifth character till the last character\n",
        "print(me.split()) # split the words \n",
        "print(me.strip('['))\n",
        "\n",
        "txt = \"     banana     \" \n",
        "x = txt.strip()\n",
        "print(\"of all fruits\", x, \"is my favorite\")"
      ],
      "execution_count": null,
      "outputs": [
        {
          "output_type": "stream",
          "name": "stdout",
          "text": [
            "[\n",
            "[[I l\n",
            "c\n",
            "love Michael Jackson's music\n",
            "['[[I', 'love', 'Michael', \"Jackson's\", 'music']\n",
            "I love Michael Jackson's music\n",
            "of all fruits banana is my favorite\n"
          ]
        }
      ]
    },
    {
      "cell_type": "markdown",
      "source": [
        "There are many operations that one can apply to a string. Here are some examples."
      ],
      "metadata": {
        "id": "TBkvb_Pky5D-"
      }
    },
    {
      "cell_type": "code",
      "source": [
        "print('This is an example'.lower()) # Convert a string to lower case\n",
        "print('This is an example'.upper()) # Convert a string to upper case\n",
        "print('This is an example'.islower()) # Check if a string to lower case\n",
        "print('This is an example'.isupper()) # Check if a string to upper case\n",
        "print('Hello'.isalpha()) # Check if a string is made of alphabet\n",
        "print('123'.isnumeric()) # Check if a string is made of numbers\n",
        "print('This is an example'.startswith('This')) # Check if a string starts with another string\n",
        "print('This is an example'.endswith('e')) # Check if a string ends with another string\n",
        "print(len('This is  an example')) # Return the length of a string\n",
        "print('This is an example'.replace('example', 'instance')) # Replace a substring with another string\n",
        "print('This is an example'.find(' an')) # find the index of the first occurance of a substring\n",
        "print('e' in 'This is an example') # Check 'example' is a substring of 'This is an example'"
      ],
      "metadata": {
        "colab": {
          "base_uri": "https://localhost:8080/"
        },
        "id": "nXgcOti1zXXF",
        "outputId": "12c82861-3aef-4335-d7e5-505cd2a368ba"
      },
      "execution_count": null,
      "outputs": [
        {
          "output_type": "stream",
          "name": "stdout",
          "text": [
            "this is an example\n",
            "THIS IS AN EXAMPLE\n",
            "False\n",
            "False\n",
            "True\n",
            "True\n",
            "True\n",
            "True\n",
            "19\n",
            "This is an instance\n",
            "7\n",
            "True\n"
          ]
        }
      ]
    },
    {
      "cell_type": "markdown",
      "source": [
        "<font color='red'>**Resource**:</font> [Read more here](https://www.w3schools.com/python/python_strings.asp)"
      ],
      "metadata": {
        "id": "hFb8oanCt_Sn"
      }
    },
    {
      "cell_type": "markdown",
      "source": [
        "### Integer type\n",
        "\n",
        "Integers have type **int**. Here are several examples of integer values: \n",
        "- -10000\n",
        "- -4\n",
        "- -565\n",
        "- 0\n",
        "- 565\n",
        "- 10000"
      ],
      "metadata": {
        "id": "zFjf-rEf1_3T"
      }
    },
    {
      "cell_type": "code",
      "source": [
        "total = 1000\n",
        "number = 20\n",
        "population_size = 36000000\n",
        "print(total, number, population_size)\n",
        "print(type(total), type(number), type(population_size))"
      ],
      "metadata": {
        "colab": {
          "base_uri": "https://localhost:8080/"
        },
        "id": "drKRBwVHy7FV",
        "outputId": "b733d756-a998-4a32-a2de-c55d44a2ada1"
      },
      "execution_count": null,
      "outputs": [
        {
          "output_type": "stream",
          "name": "stdout",
          "text": [
            "1000 20 36000000\n",
            "<class 'int'> <class 'int'> <class 'int'>\n"
          ]
        }
      ]
    },
    {
      "cell_type": "markdown",
      "source": [
        "### Float type\n",
        "Float values have type **float**.\n",
        "Here are several examples of float values:\n",
        "- -3000.665\n",
        "- -0.0001\n",
        "- 0.0\n",
        "- 0.0001\n",
        "- 3000.665\n",
        "- 3E-4\n",
        "- -2.1e4\n",
        "\n"
      ],
      "metadata": {
        "id": "cVVjyGwU4eRK"
      }
    },
    {
      "cell_type": "code",
      "metadata": {
        "colab": {
          "base_uri": "https://localhost:8080/"
        },
        "id": "uAiJQiorRsyw",
        "outputId": "3b128ab2-cad0-403f-8d3e-00ee5572edc4"
      },
      "source": [
        "x = 1002.3\n",
        "print(x, type(x))\n",
        "\n",
        "y = 314e-2\n",
        "print(y, type(y))\n"
      ],
      "execution_count": null,
      "outputs": [
        {
          "output_type": "stream",
          "name": "stdout",
          "text": [
            "1002.3 <class 'float'>\n",
            "3.14 <class 'float'>\n"
          ]
        }
      ]
    },
    {
      "cell_type": "markdown",
      "source": [
        "#### Note: If a float value is greater than 1.8 * 10^308, an output of 'inf' will be printed"
      ],
      "metadata": {
        "id": "fEGxejWe7UmC"
      }
    },
    {
      "cell_type": "code",
      "source": [
        "w = 1.8e308\n",
        "print(w, type(w))"
      ],
      "metadata": {
        "colab": {
          "base_uri": "https://localhost:8080/"
        },
        "id": "BtrfyscS7SvZ",
        "outputId": "4219da40-edc5-4543-a9b7-429e6cb1a481"
      },
      "execution_count": null,
      "outputs": [
        {
          "output_type": "stream",
          "name": "stdout",
          "text": [
            "inf <class 'float'>\n"
          ]
        }
      ]
    },
    {
      "cell_type": "markdown",
      "source": [
        "### Boolean Type\n",
        "A boolean variable has one of two possible values **True** and **False**\n"
      ],
      "metadata": {
        "id": "uTX0rEbUIx_6"
      }
    },
    {
      "cell_type": "code",
      "source": [
        "visited = True\n",
        "processed = False\n",
        "print(visited)\n",
        "print(type(visited))"
      ],
      "metadata": {
        "colab": {
          "base_uri": "https://localhost:8080/"
        },
        "id": "4f4TwwL0JFse",
        "outputId": "fa589bda-1fa6-429d-d183-82d76b319a78"
      },
      "execution_count": null,
      "outputs": [
        {
          "output_type": "stream",
          "name": "stdout",
          "text": [
            "True\n",
            "<class 'bool'>\n"
          ]
        }
      ]
    },
    {
      "cell_type": "markdown",
      "source": [
        "## None data type\n",
        "**None** is used to indicate a null value, or no value.\n"
      ],
      "metadata": {
        "id": "c_42DncBPMGQ"
      }
    },
    {
      "cell_type": "code",
      "source": [
        "x = None\n",
        "print(x, type(x))"
      ],
      "metadata": {
        "colab": {
          "base_uri": "https://localhost:8080/"
        },
        "id": "Vg3C4ix4PX8o",
        "outputId": "33a1448a-c553-4ef3-8f37-257b16cd83bc"
      },
      "execution_count": null,
      "outputs": [
        {
          "output_type": "stream",
          "name": "stdout",
          "text": [
            "None <class 'NoneType'>\n"
          ]
        }
      ]
    },
    {
      "cell_type": "markdown",
      "source": [
        "## Converting data types\n",
        "Converting or casting a variable from a type to another type is possible in python."
      ],
      "metadata": {
        "id": "5Mfi0PJ3JZHk"
      }
    },
    {
      "cell_type": "markdown",
      "source": [
        "### Converting **float** to **int**"
      ],
      "metadata": {
        "id": "Nh8f5pHkKWyc"
      }
    },
    {
      "cell_type": "code",
      "source": [
        "x = 12.6\n",
        "print(x, 'is of type:', type(x))\n",
        "y = int(x)\n",
        "print(y, 'is of type:', type(y))"
      ],
      "metadata": {
        "colab": {
          "base_uri": "https://localhost:8080/"
        },
        "id": "T4x8IOhQJf8r",
        "outputId": "1db2bbef-a8a1-4307-92f9-9a85ba0250c7"
      },
      "execution_count": null,
      "outputs": [
        {
          "output_type": "stream",
          "name": "stdout",
          "text": [
            "12.6 is of type: <class 'float'>\n",
            "12 is of type: <class 'int'>\n"
          ]
        }
      ]
    },
    {
      "cell_type": "markdown",
      "source": [
        "### Converting **int** to **float**"
      ],
      "metadata": {
        "id": "MrAmNvSMKdbe"
      }
    },
    {
      "cell_type": "code",
      "source": [
        "x = 12\n",
        "print(x, 'is of type:', type(x))\n",
        "y = float(x)\n",
        "print(y, 'is of type:', type(y))"
      ],
      "metadata": {
        "colab": {
          "base_uri": "https://localhost:8080/"
        },
        "id": "nYEuQSh0KoSe",
        "outputId": "af03fbbe-c0a9-4d50-8369-8489bc690c20"
      },
      "execution_count": null,
      "outputs": [
        {
          "output_type": "stream",
          "name": "stdout",
          "text": [
            "12 is of type: <class 'int'>\n",
            "12.0 is of type: <class 'float'>\n"
          ]
        }
      ]
    },
    {
      "cell_type": "markdown",
      "source": [
        "### Converting numbers (**int** or **float**) to string"
      ],
      "metadata": {
        "id": "KRUEz3_cKvQn"
      }
    },
    {
      "cell_type": "code",
      "source": [
        "x = 12.5\n",
        "print('x is of type:', type(x))\n",
        "y = str(x)\n",
        "print('y is of type:', type(y))"
      ],
      "metadata": {
        "colab": {
          "base_uri": "https://localhost:8080/"
        },
        "id": "1BRcIvsEK9uZ",
        "outputId": "db121319-90d4-4a4b-d4cb-0a631039218f"
      },
      "execution_count": null,
      "outputs": [
        {
          "output_type": "stream",
          "name": "stdout",
          "text": [
            "x is of type: <class 'float'>\n",
            "y is of type: <class 'str'>\n"
          ]
        }
      ]
    },
    {
      "cell_type": "code",
      "source": [
        "x = '12.4'\n",
        "print('x is of type:', type(x))\n",
        "y = float(x)\n",
        "print('y is of type: ', type(y))"
      ],
      "metadata": {
        "colab": {
          "base_uri": "https://localhost:8080/"
        },
        "id": "Yeg7NYNTMCDm",
        "outputId": "b95320ae-d481-4d1e-db52-af48d455de42"
      },
      "execution_count": null,
      "outputs": [
        {
          "output_type": "stream",
          "name": "stdout",
          "text": [
            "x is of type: <class 'str'>\n",
            "y is of type:  <class 'float'>\n"
          ]
        }
      ]
    },
    {
      "cell_type": "code",
      "source": [
        "x = '12'\n",
        "print('x is of type:', type(x))\n",
        "y = float(x)\n",
        "print('y is of type:', type(y))"
      ],
      "metadata": {
        "colab": {
          "base_uri": "https://localhost:8080/"
        },
        "id": "bOCjLt2vME3x",
        "outputId": "15deb1b2-2c3e-438b-b678-2e5c91fd98b1"
      },
      "execution_count": null,
      "outputs": [
        {
          "output_type": "stream",
          "name": "stdout",
          "text": [
            "x is of type: <class 'str'>\n",
            "y is of type: <class 'float'>\n"
          ]
        }
      ]
    },
    {
      "cell_type": "markdown",
      "source": [
        "### Conversion to boolean using bool\n",
        "- non-zero numbers convert to **True** and zero convert to **False**\n",
        "- non-empty strings convert to **True** and zero convert to **False** **bold text**"
      ],
      "metadata": {
        "id": "kT6wDR81QaCB"
      }
    },
    {
      "cell_type": "code",
      "source": [
        "# Converting a non-empty string to boolean results in True\n",
        "x = 'False'\n",
        "print(bool(x))"
      ],
      "metadata": {
        "colab": {
          "base_uri": "https://localhost:8080/"
        },
        "id": "dnp3_lcBQ7VL",
        "outputId": "1f98196f-2f57-4ddb-b1e8-7db95a0c3db7"
      },
      "execution_count": null,
      "outputs": [
        {
          "output_type": "stream",
          "name": "stdout",
          "text": [
            "True\n"
          ]
        }
      ]
    },
    {
      "cell_type": "code",
      "source": [
        "# Converting an empty string to boolean results in False\n",
        "x = ''\n",
        "print(bool(x))"
      ],
      "metadata": {
        "colab": {
          "base_uri": "https://localhost:8080/"
        },
        "id": "zKAYPYeoReOI",
        "outputId": "41ec9cbe-f106-4a2f-befb-26b3555ebb0a"
      },
      "execution_count": null,
      "outputs": [
        {
          "output_type": "stream",
          "name": "stdout",
          "text": [
            "False\n"
          ]
        }
      ]
    },
    {
      "cell_type": "code",
      "source": [
        "# Converting a non-zero number to boolean results in True\n",
        "x = 12.3\n",
        "print(bool(x))"
      ],
      "metadata": {
        "colab": {
          "base_uri": "https://localhost:8080/"
        },
        "id": "9BOFCNstRgMh",
        "outputId": "61fcd2ec-dcb2-44ab-ced2-564d5f8fae35"
      },
      "execution_count": null,
      "outputs": [
        {
          "output_type": "stream",
          "name": "stdout",
          "text": [
            "True\n"
          ]
        }
      ]
    },
    {
      "cell_type": "code",
      "source": [
        "# Converting zero value number to boolean results in False\n",
        "x = 0.0\n",
        "print(bool(x))"
      ],
      "metadata": {
        "colab": {
          "base_uri": "https://localhost:8080/"
        },
        "id": "WsylBHTPRnVS",
        "outputId": "50fb2f0b-91ab-49aa-e691-a7329561693a"
      },
      "execution_count": null,
      "outputs": [
        {
          "output_type": "stream",
          "name": "stdout",
          "text": [
            "False\n"
          ]
        }
      ]
    },
    {
      "cell_type": "markdown",
      "source": [
        "### Converting boolean values"
      ],
      "metadata": {
        "id": "kUO6RiQmR4nj"
      }
    },
    {
      "cell_type": "code",
      "source": [
        "int(True)"
      ],
      "metadata": {
        "colab": {
          "base_uri": "https://localhost:8080/"
        },
        "id": "46fSMPBIRyHH",
        "outputId": "b58f2950-d1d7-4ad3-9efa-7adec550af78"
      },
      "execution_count": null,
      "outputs": [
        {
          "output_type": "execute_result",
          "data": {
            "text/plain": [
              "1"
            ]
          },
          "metadata": {},
          "execution_count": 20
        }
      ]
    },
    {
      "cell_type": "code",
      "source": [
        "int(False)"
      ],
      "metadata": {
        "colab": {
          "base_uri": "https://localhost:8080/"
        },
        "id": "E7uy14JVT0UB",
        "outputId": "83b399a4-479a-406b-f97a-497b0c251881"
      },
      "execution_count": null,
      "outputs": [
        {
          "output_type": "execute_result",
          "data": {
            "text/plain": [
              "0"
            ]
          },
          "metadata": {},
          "execution_count": 21
        }
      ]
    },
    {
      "cell_type": "code",
      "source": [
        "float(True)"
      ],
      "metadata": {
        "colab": {
          "base_uri": "https://localhost:8080/"
        },
        "id": "DBZY93YZT49Z",
        "outputId": "ed28e237-924e-438a-f9cf-df5e66365712"
      },
      "execution_count": null,
      "outputs": [
        {
          "output_type": "execute_result",
          "data": {
            "text/plain": [
              "1.0"
            ]
          },
          "metadata": {},
          "execution_count": 22
        }
      ]
    },
    {
      "cell_type": "code",
      "source": [
        "float(False)"
      ],
      "metadata": {
        "colab": {
          "base_uri": "https://localhost:8080/"
        },
        "id": "1cLcSjPwT7ew",
        "outputId": "1b545310-2c9c-451d-aa85-257ed8393317"
      },
      "execution_count": null,
      "outputs": [
        {
          "output_type": "execute_result",
          "data": {
            "text/plain": [
              "0.0"
            ]
          },
          "metadata": {},
          "execution_count": 23
        }
      ]
    },
    {
      "cell_type": "code",
      "source": [
        "str(True)"
      ],
      "metadata": {
        "colab": {
          "base_uri": "https://localhost:8080/",
          "height": 35
        },
        "id": "Tx3iGIg1T-XH",
        "outputId": "c83eca3e-9c86-4692-9848-82b5da650e9e"
      },
      "execution_count": null,
      "outputs": [
        {
          "output_type": "execute_result",
          "data": {
            "text/plain": [
              "'True'"
            ],
            "application/vnd.google.colaboratory.intrinsic+json": {
              "type": "string"
            }
          },
          "metadata": {},
          "execution_count": 24
        }
      ]
    },
    {
      "cell_type": "code",
      "source": [
        "str(False)"
      ],
      "metadata": {
        "colab": {
          "base_uri": "https://localhost:8080/",
          "height": 35
        },
        "id": "S9G-RQuQUAWQ",
        "outputId": "27d0adc8-1ad5-44f5-dbad-caf19824dc78"
      },
      "execution_count": null,
      "outputs": [
        {
          "output_type": "execute_result",
          "data": {
            "text/plain": [
              "'False'"
            ],
            "application/vnd.google.colaboratory.intrinsic+json": {
              "type": "string"
            }
          },
          "metadata": {},
          "execution_count": 25
        }
      ]
    },
    {
      "cell_type": "markdown",
      "source": [
        "<font color='red'>**Note**: </font> Conversion from one data type to another data type should make sense. You cannot convert 'Hello' to a integer.\n"
      ],
      "metadata": {
        "id": "rq8RsVAzNJdS"
      }
    },
    {
      "cell_type": "markdown",
      "metadata": {
        "id": "9FnfecrJIAl1"
      },
      "source": [
        "### <font color='red'>**Tip**:</font> when things go wrong, you can ask [Stackoverflow](https://stackoverflow.com/), or simply [Google](www.google.com). "
      ]
    },
    {
      "cell_type": "markdown",
      "source": [
        "Here, I demonstrate an error resulting from an incorrect converstion and how Google Colab will automatically suggest a StackOverflow link to help you find solutions."
      ],
      "metadata": {
        "id": "v1WFSySyPAlf"
      }
    },
    {
      "cell_type": "code",
      "source": [
        "# An\n",
        "x = '2.3'\n",
        "y = int(x)"
      ],
      "metadata": {
        "colab": {
          "base_uri": "https://localhost:8080/",
          "height": 207
        },
        "id": "6xFab0RYM6So",
        "outputId": "3d6c6308-acc4-47e3-c706-9b1c96b0dbc9"
      },
      "execution_count": null,
      "outputs": [
        {
          "output_type": "error",
          "ename": "ValueError",
          "evalue": "ignored",
          "traceback": [
            "\u001b[0;31m---------------------------------------------------------------------------\u001b[0m",
            "\u001b[0;31mValueError\u001b[0m                                Traceback (most recent call last)",
            "\u001b[0;32m<ipython-input-12-75d44c81ce1d>\u001b[0m in \u001b[0;36m<module>\u001b[0;34m()\u001b[0m\n\u001b[1;32m      1\u001b[0m \u001b[0;31m# An\u001b[0m\u001b[0;34m\u001b[0m\u001b[0;34m\u001b[0m\u001b[0;34m\u001b[0m\u001b[0m\n\u001b[1;32m      2\u001b[0m \u001b[0mx\u001b[0m \u001b[0;34m=\u001b[0m \u001b[0;34m'2.3'\u001b[0m\u001b[0;34m\u001b[0m\u001b[0;34m\u001b[0m\u001b[0m\n\u001b[0;32m----> 3\u001b[0;31m \u001b[0my\u001b[0m \u001b[0;34m=\u001b[0m \u001b[0mint\u001b[0m\u001b[0;34m(\u001b[0m\u001b[0mx\u001b[0m\u001b[0;34m)\u001b[0m\u001b[0;34m\u001b[0m\u001b[0;34m\u001b[0m\u001b[0m\n\u001b[0m",
            "\u001b[0;31mValueError\u001b[0m: invalid literal for int() with base 10: '2.3'"
          ]
        }
      ]
    },
    {
      "cell_type": "markdown",
      "source": [
        "### <font color='red'>**Tip**: </font> To make your code clear and more readable use comments alongside your code\n",
        "\n",
        "The special symbol **#** tells Python to not *not execute* that line. Hence it is used for commenting code. "
      ],
      "metadata": {
        "id": "WEjQvCzCzV64"
      }
    },
    {
      "cell_type": "code",
      "metadata": {
        "id": "s_auAyXxVjAo"
      },
      "source": [
        "# This is a comment and will not be executed."
      ],
      "execution_count": null,
      "outputs": []
    },
    {
      "cell_type": "markdown",
      "source": [
        "##  Operators"
      ],
      "metadata": {
        "id": "Y-0fCERGZ-s5"
      }
    },
    {
      "cell_type": "markdown",
      "source": [
        "### Arithmetic operation\n",
        "- **+** used for Addition \n",
        "- **-** used for Subtraction\n",
        "- _*_ used for Multiplication\n",
        "- **/** used for Division\n",
        "- **//** used for Integer division\t\n",
        "- **%** used for Remainder\n",
        "- ****** used for Exponent\n"
      ],
      "metadata": {
        "id": "4a9QoDWaaYy9"
      }
    },
    {
      "cell_type": "code",
      "source": [
        "x = 11\n",
        "y = 2\n",
        "print('x + y = ', x + y)\n",
        "print('x - y = ', x - y)\n",
        "print('x * y = ', x * y)\n",
        "print('x / y = ', x / y)\n",
        "print('x // y = ', x // y)\n",
        "print(r'x ** y = ', x ** y)"
      ],
      "metadata": {
        "colab": {
          "base_uri": "https://localhost:8080/"
        },
        "id": "iOw1kQw5bGu3",
        "outputId": "d7144ce3-ae33-40bf-e562-be67e4033fee"
      },
      "execution_count": null,
      "outputs": [
        {
          "output_type": "stream",
          "name": "stdout",
          "text": [
            "x + y =  13\n",
            "x - y =  9\n",
            "x * y =  22\n",
            "x / y =  5.5\n",
            "x // y =  5\n",
            "x ** y =  121\n"
          ]
        }
      ]
    },
    {
      "cell_type": "markdown",
      "source": [
        "### Relational operators\n",
        "Relational operators are used for comparing values. They either return **True** or **False** \n",
        "\n",
        "- **==** for Equivalence\n",
        "- **<** for Less than\t\n",
        "- **<=** for Less than or equal to\t\n",
        "- **>** for Greater than\t\n",
        "- **>=** for Greater than or equal to\t\n",
        "- **!=** for Does not equal"
      ],
      "metadata": {
        "id": "bQNWHA7IdzEq"
      }
    },
    {
      "cell_type": "code",
      "source": [
        "x = 11\n",
        "y = 2\n",
        "print('x == y results in: ', x == y)\n",
        "print('x < y results in: ', x < y)\n",
        "print('x <= y results in: ', x <= y)\n",
        "print('x > y results in: ', x > y)\n",
        "print('x >= y results in: ', x >= y)\n",
        "print('x != y results in: ', x != y)"
      ],
      "metadata": {
        "colab": {
          "base_uri": "https://localhost:8080/"
        },
        "id": "JvzrP6w_e80C",
        "outputId": "f297aa9b-fd63-4367-e279-c223cf2c752e"
      },
      "execution_count": null,
      "outputs": [
        {
          "output_type": "stream",
          "name": "stdout",
          "text": [
            "x == y results in:  False\n",
            "x < y results in:  False\n",
            "x <= y results in:  False\n",
            "x > y results in:  True\n",
            "x >= y results in:  True\n",
            "x != y results in:  True\n"
          ]
        }
      ]
    },
    {
      "cell_type": "markdown",
      "source": [
        "### Logical operators\n",
        "- **or** is the *logical or*. It results in **True** if either of the operands are true; otherwise, it results in **False**\n",
        "- **and** for *logical and*. It results in **True** if both the operands are true; otherwise, it results in **False**\n",
        "- **not** is the *logical not*. It results in **True** if operand is false; otherwise, it results in **False**\n",
        "\n",
        "\n"
      ],
      "metadata": {
        "id": "UXpX6TWqf7km"
      }
    },
    {
      "cell_type": "code",
      "source": [
        "x = 120\n",
        "y = 239.2\n",
        "print( 'x > 200 or y > 200 results in: ', x > 200 or y > 200)\n",
        "print( 'x > 201 and y > 200 results in: ', x > 200 and y > 200)\n",
        "print( 'not(x > 200 and y > 200) results in: ', not(x > 200 and y > 200))\n"
      ],
      "metadata": {
        "colab": {
          "base_uri": "https://localhost:8080/"
        },
        "id": "JGxypAnygmma",
        "outputId": "4644aec4-60dc-43b9-8959-df6f04894107"
      },
      "execution_count": null,
      "outputs": [
        {
          "output_type": "stream",
          "name": "stdout",
          "text": [
            "x > 200 or y > 200 results in:  True\n",
            "x > 201 and y > 200 results in:  False\n",
            "not(x > 200 and y > 200) results in:  True\n"
          ]
        }
      ]
    },
    {
      "cell_type": "markdown",
      "source": [
        "### <font color='red'>**Note**: </font>: [The order of operators in an expression matter](https://www.mathcs.emory.edu/~valerie/courses/fall10/155/resources/op_precedence.html#:~:text=Highest%20precedence%20at%20top%2C%20lowest,box%20evaluate%20left%20to%20right.)"
      ],
      "metadata": {
        "id": "nUMZU3cMj-yc"
      }
    },
    {
      "cell_type": "markdown",
      "source": [
        "# <font color='red'>**Activity 1**: </font>\n",
        "\n",
        "1. Which of the following are operators, and which are values?\n",
        "    - *\n",
        "    - 'hello'\n",
        "    - -88.8\n",
        "    - -\n",
        "    - /\n",
        "    - +\n",
        "    - 5\n",
        "\n",
        "2. Which of the following is a variable, and which is a string?\n",
        "    - spam\n",
        "    - 'spam'\n",
        "3. Name three data types.\n",
        "\n",
        "4. What is an expression made up of? What do all expressions do?\n",
        "\n",
        "5. This chapter introduced assignment statements, like spam = 10. What is the difference between an expression and a statement?\n",
        "\n",
        "6. What does the variable bacon contain after the following code runs?\n",
        ">bacon = 20\n",
        ">\n",
        ">bacon + 1\n",
        "\n",
        "7. What should the following two expressions evaluate to?\n",
        ">'spam' + 'spamspam'\n",
        ">\n",
        ">'spam' * 3\n",
        "\n",
        "8. Why is eggs a valid variable name while 100 is invalid?\n",
        "\n",
        "9. What three functions can be used to get the integer, floating-point number, or string version of a value?\n",
        "\n",
        "10. Why does this expression cause an error? How can you fix it?\n",
        ">'I have eaten ' + 99 + ' burritos.'\n",
        "\n",
        "\n",
        "[Reference](https://automatetheboringstuff.com/2e/chapter1/)"
      ],
      "metadata": {
        "id": "4nOPqFRBOhnj"
      }
    },
    {
      "cell_type": "markdown",
      "metadata": {
        "id": "cmhXiDKk1PaP"
      },
      "source": [
        "# Part 2\n",
        "\n",
        "##If / elif / else statements\n",
        "Often we take action under a specific condition. For example, if it is rainy, we take an umbrella. In python, we use if/elif/else statements for such situations. The syntax of the if/elif/else statement is as follows. You have one ```if``` and at most one ```else``` and you can have several ```elif``` in the middle. Starting from ```if`` statement, if a condition is evaluated as True, its statement is run and the rest of elifs or the final else will be skipped. \n",
        "\n",
        "``` python\n",
        "if condition_1:\n",
        "    statement_1\n",
        "elif condition_2:\n",
        "    statement_2\n",
        "elif condition_3:\n",
        "    statement_3\n",
        "    ...\n",
        "else:\n",
        "    statement_n\n",
        "```\n",
        "- the program can make decisions based on the conditions defined in the if / elif / else statements \n",
        "- You must write **:** at the end of the ```if```, ```elif```, and ```else``` lines\n",
        "- Once you hit enter, after the **:**, the next line will be automatically indented. Be consistent with the indentation (2 or 4 space is commonly used). \n",
        "- The ```if```, ```elif```, ```else``` lines must start at the same indentation\n",
        "- ```elif``` always comes after an ```if``` or another ```elif``` and ```else``` must be the last statement\n",
        "\n",
        "#### Note: ```if```, ```elif```, and ```else``` statements cannot be empty, but if you for some reason have an statement with no content, put in the pass statement to avoid getting an error.\n",
        "\n"
      ]
    },
    {
      "cell_type": "markdown",
      "source": [
        "### Convert a grade from 100 to letter grade"
      ],
      "metadata": {
        "id": "hb_KAygD5gOL"
      }
    },
    {
      "cell_type": "code",
      "source": [
        "grade = input('Enter your grade: ')\n",
        "grade = float(grade)\n",
        "if grade >= 97.5:\n",
        "  result = 'A+'\n",
        "elif grade >= 92.5:\n",
        "  result = 'A'\n",
        "elif grade >= 90.0:\n",
        "  result = 'A-'\n",
        "elif grade >= 87.5:\n",
        "  result = 'B+'\n",
        "elif grade >= 82.5:\n",
        "  result = 'B'\n",
        "elif grade >= 80.0:\n",
        "  result = 'B-'\n",
        "elif grade >= 77.5:\n",
        "  result = 'C+'\n",
        "elif grade >= 72.5:\n",
        "  result = 'C'\n",
        "elif grade >= 70.0:\n",
        "  result = 'C-'\n",
        "elif grade >= 67.5:\n",
        "  result = 'D+'\n",
        "elif grade >= 62.5:\n",
        "  result = 'D'\n",
        "elif grade >= 60.0:\n",
        "  result = 'D-'\n",
        "else:\n",
        "  result = 'E'\n",
        "\n",
        "print(f'Your letter grade is {result}')"
      ],
      "metadata": {
        "colab": {
          "base_uri": "https://localhost:8080/"
        },
        "id": "wzwtwBJl5db-",
        "outputId": "e9e48e05-eeae-47b8-c813-7279f580e4ae"
      },
      "execution_count": null,
      "outputs": [
        {
          "output_type": "stream",
          "name": "stdout",
          "text": [
            "Enter your grade: 20\n",
            "Your letter grade is E\n"
          ]
        }
      ]
    },
    {
      "cell_type": "markdown",
      "source": [
        "### Another example:"
      ],
      "metadata": {
        "id": "SQzW2lXZ9C6f"
      }
    },
    {
      "cell_type": "code",
      "metadata": {
        "id": "q1NxsTw44QFE",
        "colab": {
          "base_uri": "https://localhost:8080/"
        },
        "outputId": "1e05d4e1-9861-4237-ea7d-012c2660a00d"
      },
      "source": [
        "number = float(input(\"Please type a number: \"))\n",
        "\n",
        "if number < 5:\n",
        "    print(\"the number is less than 5.\")\n",
        "elif number < 10:\n",
        "    print(\"the number is greater than or equal to 5 and less than 10.\")\n",
        "elif number < 15:\n",
        "    print(\"the number is greater than or equal to 10 and less than 15.\")\n",
        "else:\n",
        "    print(\"the number is greater than or equal to 15.\")\n",
        "\n",
        "\n",
        "# You can re-run this cell and input different values to see the different outputs "
      ],
      "execution_count": null,
      "outputs": [
        {
          "output_type": "stream",
          "name": "stdout",
          "text": [
            "Please type a number: -5\n",
            "the number is less than 5.\n"
          ]
        }
      ]
    },
    {
      "cell_type": "markdown",
      "source": [
        "### <font color='red'>**Note**: </font> ```elif``` and ```else``` statments are optional. You can have a conditional statement only with ```if```"
      ],
      "metadata": {
        "id": "ISICHhg490IJ"
      }
    },
    {
      "cell_type": "code",
      "source": [
        "age = int(input('Enter a valid number for age'))\n",
        "if age < 1 or age > 120:\n",
        "  print(' The provided value for age is not valid!')"
      ],
      "metadata": {
        "id": "Hl3JSECl-R-O",
        "colab": {
          "base_uri": "https://localhost:8080/"
        },
        "outputId": "f0f7d07b-a6a9-4c52-b7a9-8c0d700e1478"
      },
      "execution_count": null,
      "outputs": [
        {
          "output_type": "stream",
          "name": "stdout",
          "text": [
            "Enter a valid number for age222\n",
            " The provided value for age is not valid!\n"
          ]
        }
      ]
    },
    {
      "cell_type": "markdown",
      "source": [
        "### You can have nested if/elif/else conditions"
      ],
      "metadata": {
        "id": "hsiI1IRH-_aV"
      }
    },
    {
      "cell_type": "code",
      "metadata": {
        "id": "wJfN5oJS4gic",
        "colab": {
          "base_uri": "https://localhost:8080/"
        },
        "outputId": "b0f7af7d-b84a-49f0-eb42-fc30567687e4"
      },
      "source": [
        "# Nested statements \n",
        "\n",
        "answer = input (\"What do you study?\")\n",
        "\n",
        "if str(answer) == \"Physics\":\n",
        "  answer = input(\"Do you study Medical Physics?\")\n",
        "  if answer == \"Yes\":\n",
        "    print(\"Oh cool, me too!\")\n",
        "  elif answer == \"No\":\n",
        "    answer = input(\"What kind of Physics?\")\n",
        "    if answer == \"Astrophysics\":\n",
        "      print(\"Nice!\")\n",
        "    else:\n",
        "      print(\"That's also nice!\")\n",
        "\n",
        "else:\n",
        "  print(\"that is cool!\")"
      ],
      "execution_count": null,
      "outputs": [
        {
          "output_type": "stream",
          "name": "stdout",
          "text": [
            "What do you study?454\n",
            "that is cool!\n"
          ]
        }
      ]
    },
    {
      "cell_type": "markdown",
      "source": [
        "# <font color='red'>**Activity 2**: </font>\n",
        "Write a if/elif/else statement that calculates the letter grade as follows:\n",
        "- grade $\\geq 90$      --> A\n",
        "- 80 $\\leq$ grade < 90 --> B\n",
        "- 70 $\\leq$ grade < 80 --> C\n",
        "- 60 $\\leq$ grade < 70 --> D\n",
        "- grade < 60           --> E"
      ],
      "metadata": {
        "id": "nLqmG4yvArqd"
      }
    },
    {
      "cell_type": "code",
      "source": [
        "grade = input('Enter your grade: ')\n",
        "grade = float(grade)\n",
        "if grade >= 90:\n",
        "  result = 'A'\n",
        "elif grade >= 80:\n",
        "  result = 'B'\n",
        "elif grade >= 70:\n",
        "  result = 'C'\n",
        "elif grade >= 60:\n",
        "  result = 'D'\n",
        "else:\n",
        "  result = 'E'\n",
        "\n",
        "print(f'Your grade is {result}')"
      ],
      "metadata": {
        "colab": {
          "base_uri": "https://localhost:8080/"
        },
        "id": "7GHdkXm7B5iH",
        "outputId": "8f92b0da-bfaa-4052-843b-a05b49399209"
      },
      "execution_count": null,
      "outputs": [
        {
          "output_type": "stream",
          "name": "stdout",
          "text": [
            "Enter your grade: 95\n",
            "Your grade is A\n"
          ]
        }
      ]
    },
    {
      "cell_type": "markdown",
      "metadata": {
        "id": "A6hJj6n7kx-D"
      },
      "source": [
        "# Part 3\n",
        "So far we worked with data types that could contain only one value. Let's introduce data types that can handel a large number of values. To make an analogy these are similar to boxes that could hold many objects. We will cover Lists, Tuples, Sets, and Dictionaries.\n",
        "## Lists and tuples\n",
        "List and tuples could be used for ordered sequence of values.\n",
        "- each element of a sequence is assigned an index, which reflect its position\n",
        "- for a list or tuple of length n, these indices start from 0 and end at n-1\n",
        "\n",
        "\n",
        "The difference betwen lists and tuples:\n",
        "  - Lists: dynamic in size and mutable \n",
        "  - Tuples: fixed size and immutable \n",
        "\n",
        "##### PS:\n",
        "- mutable: they can be altered \n",
        "- immutable: they cannot be altered"
      ]
    },
    {
      "cell_type": "markdown",
      "source": [
        "Examples of lists:\n",
        "\n",
        "```python\n",
        "list1 = [\"apple\", \"banana\", \"cherry\"]\n",
        "list2 = [1, 5, 7, 9, 3]\n",
        "list3 = [True, False, False]\n",
        "list1 = [\"abc\", 34, True, 40, \"male\", [1, 2]]\n",
        "```"
      ],
      "metadata": {
        "id": "GFQpOUAMH0R-"
      }
    },
    {
      "cell_type": "code",
      "metadata": {
        "id": "46RIfqlI-57u",
        "colab": {
          "base_uri": "https://localhost:8080/"
        },
        "outputId": "082b8eab-4a9a-4b17-d079-42b0f5e80418"
      },
      "source": [
        "# Creating a list \n",
        "animals = [] # empty list\n",
        "animals = ['cat', 'bat', 'rat', 'elephant']\n",
        "print(animals)\n",
        "print(type(animals))\n",
        "print(animals[0])\n",
        "print(animals[3])\n",
        "print(animals[-1])\n",
        "print(animals[1:4])\n",
        "print(animals[1:])\n",
        "print(animals[-3:])"
      ],
      "execution_count": null,
      "outputs": [
        {
          "output_type": "stream",
          "name": "stdout",
          "text": [
            "['cat', 'bat', 'rat', 'elephant']\n",
            "<class 'list'>\n",
            "cat\n",
            "elephant\n",
            "elephant\n",
            "['bat', 'rat', 'elephant']\n",
            "['bat', 'rat', 'elephant']\n",
            "['bat', 'rat', 'elephant']\n"
          ]
        }
      ]
    },
    {
      "cell_type": "code",
      "source": [
        "print(len(animals))\n",
        "animals.append('bat')\n",
        "print(len(animals))\n",
        "print(animals[-1])"
      ],
      "metadata": {
        "id": "n8zhN53fGEu5",
        "colab": {
          "base_uri": "https://localhost:8080/"
        },
        "outputId": "75ed5f4f-ff56-4d68-f78d-d62b03e0e48e"
      },
      "execution_count": null,
      "outputs": [
        {
          "output_type": "stream",
          "name": "stdout",
          "text": [
            "4\n",
            "5\n",
            "bat\n"
          ]
        }
      ]
    },
    {
      "cell_type": "code",
      "source": [
        "animals.extend(['sparrow', 'parot'])\n",
        "print(len(animals))"
      ],
      "metadata": {
        "id": "lXGwAKmgGHT3",
        "colab": {
          "base_uri": "https://localhost:8080/"
        },
        "outputId": "81ed2f3a-c8f1-4ee2-ff6c-4aebcaeb999f"
      },
      "execution_count": null,
      "outputs": [
        {
          "output_type": "stream",
          "name": "stdout",
          "text": [
            "7\n"
          ]
        }
      ]
    },
    {
      "cell_type": "code",
      "source": [
        "print('caw' in animals)\n",
        "print('cow' not in animals)\n",
        "print('bat' in animals)\n",
        "print('bat' not in animals)"
      ],
      "metadata": {
        "id": "0O5f8JnNGa4l",
        "colab": {
          "base_uri": "https://localhost:8080/"
        },
        "outputId": "3f701fd3-eabd-483d-e987-398ac593bbb1"
      },
      "execution_count": null,
      "outputs": [
        {
          "output_type": "stream",
          "name": "stdout",
          "text": [
            "False\n",
            "True\n",
            "True\n",
            "False\n"
          ]
        }
      ]
    },
    {
      "cell_type": "code",
      "source": [
        "print(animals)\n",
        "animals[2]= 'elk'\n",
        "print(animals)"
      ],
      "metadata": {
        "id": "eQ5cNDp6IMsT",
        "colab": {
          "base_uri": "https://localhost:8080/"
        },
        "outputId": "168b2ef4-b379-415f-9e25-f27b57d72d2f"
      },
      "execution_count": null,
      "outputs": [
        {
          "output_type": "stream",
          "name": "stdout",
          "text": [
            "['cat', 'bat', 'rat', 'elephant', 'bat', 'sparrow', 'parot']\n",
            "['cat', 'bat', 'elk', 'elephant', 'bat', 'sparrow', 'parot']\n"
          ]
        }
      ]
    },
    {
      "cell_type": "code",
      "source": [
        "print(animals)\n",
        "animals.insert(2, 'lion')\n",
        "print(animals)"
      ],
      "metadata": {
        "colab": {
          "base_uri": "https://localhost:8080/"
        },
        "id": "PQjRldgKImU1",
        "outputId": "a8dfbbee-6c67-44d2-946f-3a4d78136518"
      },
      "execution_count": null,
      "outputs": [
        {
          "output_type": "stream",
          "name": "stdout",
          "text": [
            "['cat', 'bat', 'elk', 'elephant', 'bat', 'sparrow', 'parot']\n",
            "['cat', 'bat', 'lion', 'elk', 'elephant', 'bat', 'sparrow', 'parot']\n"
          ]
        }
      ]
    },
    {
      "cell_type": "code",
      "source": [
        "animals.append('cat')\n",
        "print(animals)"
      ],
      "metadata": {
        "id": "8th7eHkMJbCb",
        "colab": {
          "base_uri": "https://localhost:8080/"
        },
        "outputId": "3a2b0d4c-bae2-41d8-b7f3-06a4ff05f306"
      },
      "execution_count": null,
      "outputs": [
        {
          "output_type": "stream",
          "name": "stdout",
          "text": [
            "['cat', 'bat', 'lion', 'elk', 'elephant', 'bat', 'sparrow', 'parot', 'cat']\n"
          ]
        }
      ]
    },
    {
      "cell_type": "code",
      "source": [
        "print(animals.index('cat'))"
      ],
      "metadata": {
        "colab": {
          "base_uri": "https://localhost:8080/"
        },
        "id": "7WAeZA6bKWfg",
        "outputId": "9f2023cd-4cbe-40ae-a59a-0feb28b9ca19"
      },
      "execution_count": null,
      "outputs": [
        {
          "output_type": "stream",
          "name": "stdout",
          "text": [
            "0\n"
          ]
        }
      ]
    },
    {
      "cell_type": "code",
      "source": [
        "print(animals.index('cat', 1, len(animals)))"
      ],
      "metadata": {
        "id": "F9MqirO9KtBY",
        "colab": {
          "base_uri": "https://localhost:8080/"
        },
        "outputId": "f70f4628-793e-46e4-a69c-1798184fae82"
      },
      "execution_count": null,
      "outputs": [
        {
          "output_type": "stream",
          "name": "stdout",
          "text": [
            "8\n"
          ]
        }
      ]
    },
    {
      "cell_type": "code",
      "source": [
        "animals.remove('cat')\n",
        "print(animals)"
      ],
      "metadata": {
        "id": "i6n8BqwjJlJm",
        "colab": {
          "base_uri": "https://localhost:8080/"
        },
        "outputId": "cbc5142c-605b-4b84-a5a8-1c2fb2a19171"
      },
      "execution_count": null,
      "outputs": [
        {
          "output_type": "stream",
          "name": "stdout",
          "text": [
            "['bat', 'lion', 'elk', 'elephant', 'bat', 'sparrow', 'parot', 'cat']\n"
          ]
        }
      ]
    },
    {
      "cell_type": "code",
      "source": [
        "animals.pop(1)\n",
        "print(animals)"
      ],
      "metadata": {
        "colab": {
          "base_uri": "https://localhost:8080/"
        },
        "id": "JLobva5LJyUi",
        "outputId": "8c75e6a6-14ae-4582-f1d9-34c3b036d60e"
      },
      "execution_count": null,
      "outputs": [
        {
          "output_type": "stream",
          "name": "stdout",
          "text": [
            "['bat', 'elk', 'elephant', 'bat', 'sparrow', 'parot', 'cat']\n"
          ]
        }
      ]
    },
    {
      "cell_type": "code",
      "source": [
        "del animals[2]\n",
        "print(animals)"
      ],
      "metadata": {
        "id": "oL6e2hTTJ-fR",
        "colab": {
          "base_uri": "https://localhost:8080/"
        },
        "outputId": "18388455-a6d7-4a58-f634-21a9201eede9"
      },
      "execution_count": null,
      "outputs": [
        {
          "output_type": "stream",
          "name": "stdout",
          "text": [
            "['bat', 'elk', 'bat', 'sparrow', 'parot', 'cat']\n"
          ]
        }
      ]
    },
    {
      "cell_type": "code",
      "source": [
        "animals.sort()\n",
        "print(animals)"
      ],
      "metadata": {
        "id": "vX0fX9-QNSQn",
        "colab": {
          "base_uri": "https://localhost:8080/"
        },
        "outputId": "4a5ef673-bde1-45a6-f0f7-73b1453dcfb1"
      },
      "execution_count": null,
      "outputs": [
        {
          "output_type": "stream",
          "name": "stdout",
          "text": [
            "['bat', 'bat', 'cat', 'elk', 'parot', 'sparrow']\n"
          ]
        }
      ]
    },
    {
      "cell_type": "code",
      "source": [
        "animals.clear()\n",
        "print(animals)"
      ],
      "metadata": {
        "id": "5sHG6ZMGKJcY",
        "colab": {
          "base_uri": "https://localhost:8080/"
        },
        "outputId": "75753c0b-9d87-4305-a82d-4559ab5156ca"
      },
      "execution_count": null,
      "outputs": [
        {
          "output_type": "stream",
          "name": "stdout",
          "text": [
            "[]\n"
          ]
        }
      ]
    },
    {
      "cell_type": "code",
      "source": [
        "l1 = ['A', 'B', 'C']\n",
        "l2 = ['A', 'B', 'C']\n",
        "print(l1 == l2)\n",
        "l2.append('D')\n",
        "print(l1 == l2)"
      ],
      "metadata": {
        "id": "Wv2v2Tz2K_3T",
        "colab": {
          "base_uri": "https://localhost:8080/"
        },
        "outputId": "986bda27-151e-430f-f5cc-d8157f067402"
      },
      "execution_count": null,
      "outputs": [
        {
          "output_type": "stream",
          "name": "stdout",
          "text": [
            "True\n",
            "False\n"
          ]
        }
      ]
    },
    {
      "cell_type": "code",
      "source": [
        "l = [185, 185.3, 'john']\n",
        "height, weight, name = l\n",
        "print(f'height: {height}, weight: {weight}, name: {name}')"
      ],
      "metadata": {
        "colab": {
          "base_uri": "https://localhost:8080/"
        },
        "id": "PhL8xkrgLzO-",
        "outputId": "5b50b440-2ed3-4678-ccce-2a22a70d2082"
      },
      "execution_count": null,
      "outputs": [
        {
          "output_type": "stream",
          "name": "stdout",
          "text": [
            "height: 185, weight: 185.3, name: john\n"
          ]
        }
      ]
    },
    {
      "cell_type": "markdown",
      "source": [
        "### [Read more here](https://automatetheboringstuff.com/2e/chapter4/)"
      ],
      "metadata": {
        "id": "JZ5Ri1G_NsUy"
      }
    },
    {
      "cell_type": "markdown",
      "source": [
        "### *Tuples*\n",
        "```python\n",
        "tuple1 = (\"apple\", \"banana\", \"cherry\")\n",
        "tuple2 = (1, 5, 7, 9, 3)\n",
        "tuple3 = (True, False, False)\n",
        "```"
      ],
      "metadata": {
        "id": "ZsWAJL72OQpc"
      }
    },
    {
      "cell_type": "code",
      "source": [
        "fruits = (\"apple\", \"banana\", \"cherry\", \"apple\", \"cherry\")\n",
        "print(fruits)\n",
        "print(type(fruits))\n",
        "print(len(fruits))\n",
        "print(fruits.count('apple'))\n",
        "print(fruits.index('banana'))"
      ],
      "metadata": {
        "colab": {
          "base_uri": "https://localhost:8080/"
        },
        "id": "v3k1jCqSOy9x",
        "outputId": "b7c3347b-11a9-4c15-9d8b-39492222f2d5"
      },
      "execution_count": null,
      "outputs": [
        {
          "output_type": "stream",
          "name": "stdout",
          "text": [
            "('apple', 'banana', 'cherry', 'apple', 'cherry')\n",
            "<class 'tuple'>\n",
            "5\n",
            "2\n",
            "1\n"
          ]
        }
      ]
    },
    {
      "cell_type": "code",
      "source": [
        "t = (185, 185.3, 'john')\n",
        "height, weight, name = t\n",
        "print(f'height: {height}, weight: {weight}, name: {name}')"
      ],
      "metadata": {
        "colab": {
          "base_uri": "https://localhost:8080/"
        },
        "id": "Tag_m8SYQGf9",
        "outputId": "24ded618-d787-4aa5-aa92-afffd7fa2efc"
      },
      "execution_count": null,
      "outputs": [
        {
          "output_type": "stream",
          "name": "stdout",
          "text": [
            "height: 185, weight: 185.3, name: john\n"
          ]
        }
      ]
    },
    {
      "cell_type": "code",
      "source": [
        "l = list(t)\n",
        "l.append(22)\n",
        "t = tuple(l)\n",
        "height, weight, name, age = t\n",
        "print(f'height: {height}, weight: {weight}, name: {name}, age: {age}')"
      ],
      "metadata": {
        "colab": {
          "base_uri": "https://localhost:8080/"
        },
        "id": "gyCT9aenQK7M",
        "outputId": "dd77bd30-8169-47ec-82ad-50dbd4516a9d"
      },
      "execution_count": null,
      "outputs": [
        {
          "output_type": "stream",
          "name": "stdout",
          "text": [
            "height: 185, weight: 185.3, name: john, age: 22\n"
          ]
        }
      ]
    },
    {
      "cell_type": "code",
      "source": [
        "# For one item tuples, remember the comma\n",
        "thistuple = (\"apple\",)\n",
        "print(type(thistuple))\n",
        "\n",
        "#NOT a tuple\n",
        "thistuple = (\"apple\")\n",
        "print(type(thistuple))"
      ],
      "metadata": {
        "colab": {
          "base_uri": "https://localhost:8080/"
        },
        "id": "ppk1L4umPFb_",
        "outputId": "c265f19d-e028-461d-d3aa-2c47ae2675d6"
      },
      "execution_count": null,
      "outputs": [
        {
          "output_type": "stream",
          "name": "stdout",
          "text": [
            "<class 'tuple'>\n",
            "<class 'str'>\n"
          ]
        }
      ]
    },
    {
      "cell_type": "markdown",
      "source": [
        "## Sets\n",
        "Sets are immutable collections of data with not repetition and no order.\n",
        "```python\n",
        "set1 = {\"apple\", \"banana\", \"cherry\"}\n",
        "set2 = {1, 5, 7, 9, 3}\n",
        "set3 = {True, False, False}\n",
        "set1 = {\"abc\", 34, True, 40, \"male\"}\n",
        "```"
      ],
      "metadata": {
        "id": "QGRpzz_hQ657"
      }
    },
    {
      "cell_type": "code",
      "source": [
        "thisset = {\"apple\", \"banana\", \"cherry\", \"apple\"}\n",
        "print(thisset)\n",
        "print(type(thisset))\n",
        "print(len(thisset))\n",
        "print('banana' in thisset)\n",
        "print('orange' not in thisset)"
      ],
      "metadata": {
        "colab": {
          "base_uri": "https://localhost:8080/"
        },
        "id": "8QlrUlc_RHCA",
        "outputId": "7f398b39-58c3-4784-dad9-3ea8627c6740"
      },
      "execution_count": null,
      "outputs": [
        {
          "output_type": "stream",
          "name": "stdout",
          "text": [
            "{'apple', 'cherry', 'banana'}\n",
            "<class 'set'>\n",
            "3\n",
            "True\n",
            "True\n"
          ]
        }
      ]
    },
    {
      "cell_type": "code",
      "source": [
        "# Creat from list or tuple\n",
        "s1 = set([1, 2, 4, 1, 2, 1])\n",
        "s2 = set((1, 2, 4))\n",
        "print(s1)\n",
        "print(s1 == s2)"
      ],
      "metadata": {
        "colab": {
          "base_uri": "https://localhost:8080/"
        },
        "id": "fauDqhmiQ4py",
        "outputId": "72ca5d78-62c6-4631-f285-6bb568ccba7b"
      },
      "execution_count": null,
      "outputs": [
        {
          "output_type": "stream",
          "name": "stdout",
          "text": [
            "{1, 2, 4}\n",
            "True\n"
          ]
        }
      ]
    },
    {
      "cell_type": "code",
      "source": [
        "# Add Items\n",
        "thisset = {\"apple\", \"banana\", \"cherry\"}\n",
        "thisset.add(\"orange\")\n",
        "print(thisset)"
      ],
      "metadata": {
        "colab": {
          "base_uri": "https://localhost:8080/"
        },
        "id": "4izctCrFSPD0",
        "outputId": "fcb01860-68dc-4f96-f2ef-a482ff2f8c12"
      },
      "execution_count": null,
      "outputs": [
        {
          "output_type": "stream",
          "name": "stdout",
          "text": [
            "{'apple', 'cherry', 'orange', 'banana'}\n"
          ]
        }
      ]
    },
    {
      "cell_type": "code",
      "source": [
        "# Add Sets\n",
        "thisset = {\"apple\", \"banana\", \"cherry\"}\n",
        "tropical = {\"pineapple\", \"mango\", \"papaya\"}\n",
        "\n",
        "thisset.update(tropical)\n",
        "\n",
        "print(thisset)\n",
        "thisset.remove(\"banana\") # Note: If the item to remove does not exist, remove() will raise an error.\n",
        "print(thisset)\n",
        "thisset.discard(\"date\") # Note: If the item to remove does not exist, discard() will NOT raise an error.\n",
        "\n"
      ],
      "metadata": {
        "colab": {
          "base_uri": "https://localhost:8080/"
        },
        "id": "6flkF-P9SaAj",
        "outputId": "fd08b306-3254-43da-b4a9-2257271662ec"
      },
      "execution_count": null,
      "outputs": [
        {
          "output_type": "stream",
          "name": "stdout",
          "text": [
            "{'mango', 'cherry', 'apple', 'pineapple', 'papaya', 'banana'}\n",
            "{'mango', 'cherry', 'apple', 'pineapple', 'papaya'}\n"
          ]
        }
      ]
    },
    {
      "cell_type": "code",
      "source": [
        "thisset = {\"apple\", \"banana\", \"cherry\"}\n",
        "x = thisset.pop()# Note: Sets are unordered, so when using the pop() method, you do not know which item gets removed.\n",
        "print(x)\n",
        "print(thisset)"
      ],
      "metadata": {
        "colab": {
          "base_uri": "https://localhost:8080/"
        },
        "id": "eQUNtEO6Ta9M",
        "outputId": "e8e35c73-a69f-4cb7-f879-e1a826c73c56"
      },
      "execution_count": null,
      "outputs": [
        {
          "output_type": "stream",
          "name": "stdout",
          "text": [
            "apple\n",
            "{'cherry', 'banana'}\n"
          ]
        }
      ]
    },
    {
      "cell_type": "code",
      "source": [
        "s1 = {1, 2}\n",
        "s2 = {1, 3}\n",
        "s3 = {1, 2, 3, 4, 5}\n",
        "print(s1.union(s2))\n",
        "print(s1.intersection(s2))\n",
        "print(s1.issubset(s3))\n",
        "print(s1.difference(s2))"
      ],
      "metadata": {
        "colab": {
          "base_uri": "https://localhost:8080/"
        },
        "id": "SawvYasbUdxP",
        "outputId": "fae6de5b-9849-4ae3-c7c5-817b0707c71a"
      },
      "execution_count": null,
      "outputs": [
        {
          "output_type": "stream",
          "name": "stdout",
          "text": [
            "{1, 2, 3}\n",
            "{1}\n",
            "True\n",
            "{2}\n"
          ]
        }
      ]
    },
    {
      "cell_type": "markdown",
      "source": [
        "###Note: for empty set use ```set()``. ```{}``` is not an empty *set*\n",
        "```python\n",
        "s = set()\n",
        "```\n",
        "\n",
        "[Read more about sets here](https://www.w3schools.com/python/python_sets_methods.asp)"
      ],
      "metadata": {
        "id": "4IXc0CpjTw8s"
      }
    },
    {
      "cell_type": "markdown",
      "source": [
        "## Dictionaries\n",
        "Dictionaries are used to store data values in key:value pairs. Dictionaries are mutable. However, they cannot have two items with the same key.\n",
        "\n",
        "Note: As of Python version 3.7, dictionaries are ordered. In Python 3.6 and earlier, dictionaries are unordered.\n",
        "\n",
        "\n"
      ],
      "metadata": {
        "id": "W1yQ3K5_VAB0"
      }
    },
    {
      "cell_type": "code",
      "source": [
        "thisdict = {\n",
        "  \"brand\": \"Ford\",\n",
        "  \"model\": \"Mustang\",\n",
        "  \"year\": 1964\n",
        "}\n",
        "print(thisdict)\n",
        "print(thisdict['brand'])\n",
        "print(type(thisdict))\n",
        "print(len(thisdict))\n",
        "thisdict[\"year\"] = 2020\n",
        "print(thisdict)\n",
        "thisdict['color'] = 'red'\n",
        "print(thisdict)"
      ],
      "metadata": {
        "colab": {
          "base_uri": "https://localhost:8080/"
        },
        "id": "vMO0QzK6WFPe",
        "outputId": "90aea45d-8fee-4149-9678-a483e89075ee"
      },
      "execution_count": null,
      "outputs": [
        {
          "output_type": "stream",
          "name": "stdout",
          "text": [
            "{'brand': 'Ford', 'model': 'Mustang', 'year': 1964}\n",
            "Ford\n",
            "<class 'dict'>\n",
            "3\n",
            "{'brand': 'Ford', 'model': 'Mustang', 'year': 2020}\n",
            "{'brand': 'Ford', 'model': 'Mustang', 'year': 2020, 'color': 'red'}\n"
          ]
        }
      ]
    },
    {
      "cell_type": "code",
      "source": [
        "print(thisdict.values())"
      ],
      "metadata": {
        "colab": {
          "base_uri": "https://localhost:8080/"
        },
        "id": "2ArKP0dZXVF9",
        "outputId": "6fb53779-657b-4cd6-975b-83631878711a"
      },
      "execution_count": null,
      "outputs": [
        {
          "output_type": "stream",
          "name": "stdout",
          "text": [
            "dict_values(['Ford', 'Mustang', 2020, 'red'])\n"
          ]
        }
      ]
    },
    {
      "cell_type": "code",
      "source": [
        "print(thisdict.items())"
      ],
      "metadata": {
        "colab": {
          "base_uri": "https://localhost:8080/"
        },
        "id": "_rquRFfDXY32",
        "outputId": "cf26e611-b4e2-4527-baf4-b79b8a101eaa"
      },
      "execution_count": null,
      "outputs": [
        {
          "output_type": "stream",
          "name": "stdout",
          "text": [
            "dict_items([('brand', 'Ford'), ('model', 'Mustang'), ('year', 2020), ('color', 'red')])\n"
          ]
        }
      ]
    },
    {
      "cell_type": "code",
      "source": [
        "x = thisdict.get(\"model\")\n",
        "l = thisdict.keys()\n",
        "print(l)"
      ],
      "metadata": {
        "colab": {
          "base_uri": "https://localhost:8080/"
        },
        "id": "2I6WtL8KWlYC",
        "outputId": "28dfa60e-75d4-4cc4-f0bf-39ca50facf0d"
      },
      "execution_count": null,
      "outputs": [
        {
          "output_type": "stream",
          "name": "stdout",
          "text": [
            "dict_keys(['brand', 'model', 'year', 'color'])\n"
          ]
        }
      ]
    },
    {
      "cell_type": "code",
      "source": [
        "# Check if Key Exists\n",
        "if 'model' in thisdict:\n",
        "  print(\"Yes, 'model' is one of the keys in the thisdict dictionary\")"
      ],
      "metadata": {
        "colab": {
          "base_uri": "https://localhost:8080/"
        },
        "id": "q2ejuQ1hXkuD",
        "outputId": "5903fa88-e46e-49bf-f385-61fe5a35658c"
      },
      "execution_count": null,
      "outputs": [
        {
          "output_type": "stream",
          "name": "stdout",
          "text": [
            "Yes, 'model' is one of the keys in the thisdict dictionary\n"
          ]
        }
      ]
    },
    {
      "cell_type": "code",
      "source": [
        "del thisdict[\"model\"]\n",
        "print(thisdict)"
      ],
      "metadata": {
        "colab": {
          "base_uri": "https://localhost:8080/"
        },
        "id": "qE7lmsHlYR-R",
        "outputId": "74289dd4-efe5-4953-c79b-d8f54589b5b7"
      },
      "execution_count": null,
      "outputs": [
        {
          "output_type": "stream",
          "name": "stdout",
          "text": [
            "{'brand': 'Ford', 'year': 2020, 'color': 'red'}\n"
          ]
        }
      ]
    },
    {
      "cell_type": "markdown",
      "source": [
        "# <font color='red'>**Activity 3**: </font>\n",
        "Print numbers 1 to 10\n",
        "Solution 1:"
      ],
      "metadata": {
        "id": "gJlgunpQY_2h"
      }
    },
    {
      "cell_type": "code",
      "source": [
        "print(1)\n",
        "print(2)\n",
        "print(3)\n",
        "print(4)\n",
        "print(5)\n",
        "print(6)\n",
        "print(7)\n",
        "print(8)\n",
        "print(9)\n",
        "print(10)"
      ],
      "metadata": {
        "colab": {
          "base_uri": "https://localhost:8080/"
        },
        "id": "XbbMw4fPZ_hD",
        "outputId": "e3399acb-db75-4e50-bc79-f058d90ec529"
      },
      "execution_count": null,
      "outputs": [
        {
          "output_type": "stream",
          "name": "stdout",
          "text": [
            "1\n",
            "2\n",
            "3\n",
            "4\n",
            "5\n",
            "6\n",
            "7\n",
            "8\n",
            "9\n",
            "10\n"
          ]
        }
      ]
    },
    {
      "cell_type": "markdown",
      "source": [
        "### What if you need to repeat a command a million times?\n",
        "The solution is loops. Loops allow us to convinently perform repatetive tasks.\n",
        "A solution for the task mentioned above would be:\n"
      ],
      "metadata": {
        "id": "9Yj0yuIQaRqC"
      }
    },
    {
      "cell_type": "code",
      "source": [
        "for i in range(1, 11):\n",
        "  print(i)"
      ],
      "metadata": {
        "colab": {
          "base_uri": "https://localhost:8080/"
        },
        "id": "NzxioQksa-1J",
        "outputId": "2265a9d9-26ac-483a-b348-dce5d1cf66f9"
      },
      "execution_count": null,
      "outputs": [
        {
          "output_type": "stream",
          "name": "stdout",
          "text": [
            "1\n",
            "2\n",
            "3\n",
            "4\n",
            "5\n",
            "6\n",
            "7\n",
            "8\n",
            "9\n",
            "10\n"
          ]
        }
      ]
    },
    {
      "cell_type": "markdown",
      "metadata": {
        "id": "4oMCVr8bFWuQ"
      },
      "source": [
        "#### For loops \n",
        "\n",
        "- the point of a for-loops is to repeatedly do something instead of doing it manually \n",
        "- for example if you need to count to 10, a loop can help you do that if you define the range; or if you want to display all letters of a word, a loop can also do that \n",
        "- A loop will continue running or looping as long as a certain defiend condition is satisfied \n",
        "- We can define how many times or how we want it to loop \n",
        "\n",
        "> We use **for** to declare a loop is being created \n",
        "\n",
        "> we define a variable *x* to *count* our numbers \n",
        "\n",
        "> you must also write **in** prior to the thing you want to iterate over \n",
        "\n",
        "> **Range** is a built in Python function to start anumber and count up to a certain number while increasing by any interval we want with the syntax \n",
        "\n",
        "\n",
        "\n",
        "```\n",
        "range(start,stop,step)\n",
        "range(10)  # When only one number is in the function it means we start at 0 \n",
        "# increase by one each time and stop when our variable hits 10\n",
        "\n",
        "range(5,10)  # When two numbers are in the function it means to start at the first number (in this case 5) \n",
        "# increase by one each time and stop when our variable hits the second number (in this case 10)\n",
        "\n",
        "range(1,5,2)  # when three numbers are in the function it means to start at the first number (1)\n",
        "# stop at the second number (5)\n",
        "# and increase by the last number (2) \n",
        "\n",
        "```\n",
        "\n"
      ]
    },
    {
      "cell_type": "code",
      "source": [
        "# Calculate the summation of numbers in a list\n",
        "l = [2, 23, -5, 7, 8, -456, 34, 89, -97, 43, 12, -8, 43, -345, 23, 1, 43, 5, 7]\n",
        "total = 0\n",
        "for x in l:\n",
        "  total = total + x# This line can be written as total += x\n",
        "print(total, sum(l))# sum is a method that return summation of all elements in a list\n",
        "assert total == sum(l) "
      ],
      "metadata": {
        "colab": {
          "base_uri": "https://localhost:8080/"
        },
        "id": "8r-ICoRcb2Rp",
        "outputId": "30b8da1e-cb84-406d-c5c8-df1253d45f29"
      },
      "execution_count": null,
      "outputs": [
        {
          "output_type": "stream",
          "name": "stdout",
          "text": [
            "-571 -571\n"
          ]
        }
      ]
    },
    {
      "cell_type": "code",
      "source": [
        "# Calculate the summation of all non-negative numbers in a list\n",
        "l = [2, 23, -5, 7, 8, -456, 34, 89, -97, 43, 12, -8, 43, -345, 23, 1, 43, 5, 7]\n",
        "total = 0\n",
        "for x in l:\n",
        "  if x > 0:\n",
        "    total = total + x # This line can be written as total += x\n",
        "print(total)\n"
      ],
      "metadata": {
        "colab": {
          "base_uri": "https://localhost:8080/"
        },
        "id": "wurPZoVGczYs",
        "outputId": "c1def58b-9d35-4715-c553-69a67a841e94"
      },
      "execution_count": null,
      "outputs": [
        {
          "output_type": "stream",
          "name": "stdout",
          "text": [
            "340\n"
          ]
        }
      ]
    },
    {
      "cell_type": "markdown",
      "metadata": {
        "id": "Vq3E7G7XESSV"
      },
      "source": [
        "#### Iterables \n",
        "- In Python, we say that an object is an iterable when your program\n",
        "can iterate over it\n",
        "  - an iterable is an object that represents a sequence of one\n",
        "or more values\n",
        "  - all instances of Python's sequence types are iterables \n",
        "    - Lists\n",
        "    - Strings \n",
        "    - Tuples "
      ]
    },
    {
      "cell_type": "markdown",
      "metadata": {
        "id": "VO0bXy-oF0XS"
      },
      "source": [
        "#### While loops \n",
        "\n",
        "- typically used when the number of iterations is unknown, so we loop it while a given condition is true. "
      ]
    },
    {
      "cell_type": "code",
      "metadata": {
        "colab": {
          "base_uri": "https://localhost:8080/"
        },
        "id": "5aW20NM9P1BM",
        "outputId": "61a07ea3-a622-4716-a056-d65e478c370e"
      },
      "source": [
        "# Calculate summation of numbers between 1 and 10 (both included)\n",
        "i = 1\n",
        "total = 0\n",
        "while i <= 10:\n",
        "  total += i\n",
        "  i += 1\n",
        "print(total)"
      ],
      "execution_count": null,
      "outputs": [
        {
          "output_type": "stream",
          "name": "stdout",
          "text": [
            "55\n"
          ]
        }
      ]
    },
    {
      "cell_type": "markdown",
      "source": [
        "For both for and while loops\n",
        "\n",
        "- the \"break\" command can be used to break the loop if a certain condition is satisfied\n",
        "- the \"continue\" command can be used to skip the statments inside a loop if a certain condition is satisfied\n",
        "\n",
        "[Read more here](https://automatetheboringstuff.com/2e/chapter2/)"
      ],
      "metadata": {
        "id": "j4PNVriSd8Qp"
      }
    },
    {
      "cell_type": "markdown",
      "metadata": {
        "id": "7G6lctTlFaeb"
      },
      "source": [
        "### Functions \n",
        "\n",
        "- A function applies a set of defined rules to the input to obtain an output.\n",
        "- It makes code more reusable. You can define a function and call it several times."
      ]
    },
    {
      "cell_type": "code",
      "metadata": {
        "colab": {
          "base_uri": "https://localhost:8080/"
        },
        "id": "H07f3FXGSa4A",
        "outputId": "fe894142-42c7-4ff6-d38e-10eed4c0b6d6"
      },
      "source": [
        "def frequency(l):\n",
        "  \"\"\" Calculate frequency of elements in a sequence.\n",
        "\n",
        "  Args:\n",
        "    l: A iterable of immutable items\n",
        "  Returen:\n",
        "    A dictionary key: value, where a key represents an elements of l and its value represents the frequency of k \n",
        "  \"\"\"\n",
        "  freq = {}# An empty dictionary\n",
        "  for x in l:\n",
        "    freq[x] = freq.get(x, 0) + 1\n",
        "  return freq\n",
        "\n",
        "l = [1, 2, 3, 2, 1, 1, 3, 4, 1, 4, 3, 1, 2, 3, 4]\n",
        "print(frequency(l)) \n",
        "\n",
        "s = 'banana'\n",
        "print(frequency(s))\n",
        "\n",
        "t = (1, 2, 3, 2, 1, 1, 3, 4, 1, 4, 3, 1, 2, 3, 4)\n",
        "print(frequency(t))\n",
        "\n",
        "l = [(1, 2), (3, 2), (1, 2), (3, 1),  (4, 1), (1, 2), (3, 1), (2, 3), (4, 1)]\n",
        "print(frequency(l)) # A set has"
      ],
      "execution_count": null,
      "outputs": [
        {
          "output_type": "stream",
          "name": "stdout",
          "text": [
            "{1: 5, 2: 3, 3: 4, 4: 3}\n",
            "{'b': 1, 'a': 3, 'n': 2}\n",
            "{1: 5, 2: 3, 3: 4, 4: 3}\n",
            "{(1, 2): 3, (3, 2): 1, (3, 1): 2, (4, 1): 2, (2, 3): 1}\n"
          ]
        }
      ]
    },
    {
      "cell_type": "code",
      "source": [
        "def write(l, file_path):\n",
        "  \"\"\" Write an iterable to a file.\n",
        "\n",
        "  Args:\n",
        "      l: An iterable.\n",
        "      file_path: an string representing a file path.\n",
        "  \"\"\"\n",
        "  with open(file_path, 'w') as fout:\n",
        "    for x in l:\n",
        "      fout.write(str(x))\n",
        "      fout.write('\\n')# Go to the next line"
      ],
      "metadata": {
        "id": "icD0ZCL2u9Kp"
      },
      "execution_count": null,
      "outputs": []
    },
    {
      "cell_type": "code",
      "source": [
        "def read(file_path):\n",
        "  \"\"\" Read an file to a list.\n",
        "\n",
        "  Args:\n",
        "      file_path: an string representing a file path.\n",
        "  Returns:\n",
        "      A list where each element is a line of the file.\n",
        "  \"\"\"\n",
        "  l = []\n",
        "  with open(file_path, 'r') as fin:\n",
        "    for line in fin:\n",
        "      line = line.strip()\n",
        "      l.append(line)\n",
        "  return l "
      ],
      "metadata": {
        "id": "SFSQm-4qwYr7"
      },
      "execution_count": null,
      "outputs": []
    },
    {
      "cell_type": "code",
      "source": [
        "write(['1', '2' , '3'], 'file_path.txt') # Write to file\n",
        "read('file_path.txt') # Read from the same file"
      ],
      "metadata": {
        "colab": {
          "base_uri": "https://localhost:8080/"
        },
        "id": "fqLF9v4kxZUH",
        "outputId": "c1def25d-8f1e-4d48-b929-3aed21a8eecf"
      },
      "execution_count": null,
      "outputs": [
        {
          "output_type": "execute_result",
          "data": {
            "text/plain": [
              "['1', '2', '3']"
            ]
          },
          "metadata": {},
          "execution_count": 128
        }
      ]
    },
    {
      "cell_type": "markdown",
      "metadata": {
        "id": "rkeCqvooKf4r"
      },
      "source": [
        "### Modular Porgramming \n",
        "\n",
        ">Python has a way to put definitions in a file and use them in a script or in an interactive instance of the interpreter. Such a file is called a module; definitions from a module can be imported into other modules or into the main module (the collection of variables that you have access to in a script executed at the top level and in calculator mode).\n",
        ">[Reference](https://docs.python.org/3/tutorial/modules.html)\n",
        "\n",
        "\n",
        "\n",
        "```\n",
        "# File name: myModule.py\n",
        "\n",
        "def func(x):\n",
        "    return x + 2\n",
        "\n",
        "def func2(y):\n",
        "    return y * 78\n",
        "```\n",
        "\n",
        "\n",
        "```\n",
        "# File name: main.py\n",
        "\n",
        "import myModule\n",
        "\n",
        "value = myModule.func(5)  # this will call the func function from myModule\n",
        "\n",
        "print(value)  # this prints 7\n",
        "```\n",
        "\n",
        "- We can use the **import** keyword to import modules that are built into python or that we've created.\n",
        "- Note: To import our own modules they must be in the same directory as the file we are importing from.\n",
        "\n",
        "- To avoid the use of \"myModule\" we can import specific functions from our modules using a combination of keywords \"import\" and \"from\".\n",
        "\n"
      ]
    },
    {
      "cell_type": "markdown",
      "source": [
        "## Common modules that you should consider\n",
        "```python\n",
        "import math\n",
        "math.exp(2) #Return e raised to the power x, where e = 2.718281\n",
        "```\n",
        "[See](https://docs.python.org/3/library/math.html)\n",
        "\n",
        "```python\n",
        "import collections\n",
        "l = 'banana'\n",
        "count = collections.Counter(l)\n",
        "print(count)\n",
        "```\n",
        "[See more here](https://docs.python.org/3/library/collections.html)"
      ],
      "metadata": {
        "id": "gPJROL9asTAz"
      }
    },
    {
      "cell_type": "markdown",
      "source": [
        "Some other useful modules\n",
        "- Scikit-Learn\n",
        "- numpy\n",
        "- pytorch\n",
        "- scipy\n",
        "- pandas\n",
        "- matplotlib\n",
        "- random\n",
        "- opencv-python\n",
        "- itertools\n",
        "- logging\n",
        "- json"
      ],
      "metadata": {
        "id": "bEmAU-I0t1IU"
      }
    },
    {
      "cell_type": "code",
      "source": [],
      "metadata": {
        "id": "dXLS2ZJss6e4"
      },
      "execution_count": null,
      "outputs": []
    }
  ]
}