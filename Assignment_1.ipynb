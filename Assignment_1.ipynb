{
  "nbformat": 4,
  "nbformat_minor": 0,
  "metadata": {
    "colab": {
      "provenance": [],
      "include_colab_link": true
    },
    "kernelspec": {
      "name": "python3",
      "display_name": "Python 3"
    },
    "language_info": {
      "name": "python"
    }
  },
  "cells": [
    {
      "cell_type": "markdown",
      "metadata": {
        "id": "view-in-github",
        "colab_type": "text"
      },
      "source": [
        "<a href=\"https://colab.research.google.com/github/AtabonfackBernes/SPARK_Projects/blob/main/Assignment_1.ipynb\" target=\"_parent\"><img src=\"https://colab.research.google.com/assets/colab-badge.svg\" alt=\"Open In Colab\"/></a>"
      ]
    },
    {
      "cell_type": "markdown",
      "source": [
        "For some questions there are TODOs that you need to complete. For others you need to write the whole program.\n",
        "\n",
        "\n",
        "Note: If you run the Code cells, you will get an error as they are partially incomplete. You need to first complete them and then run them."
      ],
      "metadata": {
        "id": "wMHWNg_H1k_M"
      }
    },
    {
      "cell_type": "markdown",
      "source": [
        "1. Write a a program to get two integers from the input and check whether they are equal or not."
      ],
      "metadata": {
        "id": "4eXCxPR7viqw"
      }
    },
    {
      "cell_type": "code",
      "execution_count": null,
      "metadata": {
        "colab": {
          "base_uri": "https://localhost:8080/"
        },
        "id": "zQTIe3m-vgzk",
        "outputId": "4d9a0b97-feb0-4163-de0a-238e790cb861"
      },
      "outputs": [
        {
          "output_type": "stream",
          "name": "stdout",
          "text": [
            "Enter the first number: 1\n",
            "Enter the first number: 5\n",
            "The two number are not equal\n"
          ]
        }
      ],
      "source": [
        "x = input(\"Enter the first number: \")\n",
        "x = int(x)\n",
        "y =  #TODO: Complete this line\n",
        "y = int(y)\n",
        "if ( ):#TODO: Enter the right condition inside the parentheses. The parenthesis is not required.\n",
        "  print('The two numbers are equal')\n",
        "else:\n",
        "  print('The two number are equal')"
      ]
    },
    {
      "cell_type": "markdown",
      "source": [
        "2. Write a program to read the age of a candidate from the input and determine whether the candidate is eligible for casting vote or not.\n"
      ],
      "metadata": {
        "id": "ONO8Ls_Ayntk"
      }
    },
    {
      "cell_type": "code",
      "source": [
        "\n",
        "age = input(\"Enter the candate age: \")\n",
        "#TODO: convert the variable to int\n",
        "if (): #TODO: Enter the right condition inside the parentheses. Anyone older than 18 should be eligible.\n",
        "  print('Eligible!')\n",
        "else:\n",
        "  print('Not eligible!')"
      ],
      "metadata": {
        "id": "Q-65ao6Iwb-6"
      },
      "execution_count": null,
      "outputs": []
    },
    {
      "cell_type": "markdown",
      "source": [
        "3. Write a program to get a character from the input and check whether it is a alphabet, digit or special character. "
      ],
      "metadata": {
        "id": "PqZiN2Cx0UC4"
      }
    },
    {
      "cell_type": "code",
      "source": [
        "character = input(\"Enter a character: \")\n",
        "if (): #TODO: Enter the right condition inside the parentheses. Anyone older than 18 should be eligible.\n",
        "  print('Alphabet!')\n",
        "elif ():#TODO: Enter the right condition inside the parentheses. Anyone older than 18 should be eligible.\n",
        "  print('Digit!')\n",
        "else:\n",
        "  print('Special character!')\n",
        "#Hint: Read the list of methods introduced in the tutorial for working with strings"
      ],
      "metadata": {
        "id": "4iU61LnW0xXL"
      },
      "execution_count": null,
      "outputs": []
    },
    {
      "cell_type": "markdown",
      "source": [
        "4. Write a program to read a month number in integer and print the month name.\n",
        "\n",
        "The month name and numbers are as follwos:\n",
        "* 1: January\n",
        "* 2: February\n",
        "* 3: March\n",
        "* 4: April\n",
        "* 5: May\n",
        "* 6: June\n",
        "* 7: July\n",
        "* 8: August\n",
        "* 9: September\n",
        "* 10: October\n",
        "* 11: November12: December"
      ],
      "metadata": {
        "id": "47tS5-zm2CG4"
      }
    },
    {
      "cell_type": "code",
      "source": [
        "#TODO: Write the program here"
      ],
      "metadata": {
        "id": "cM-yfCkD0wHs"
      },
      "execution_count": null,
      "outputs": []
    },
    {
      "cell_type": "markdown",
      "source": [
        "5. Write a program in to simulate a simple calculator."
      ],
      "metadata": {
        "id": "iIhcCQiP3EnE"
      }
    },
    {
      "cell_type": "code",
      "source": [
        "operator = input('Enter the operator. Valid options include +,- *, abd / : ')\n",
        "left_operand = float(input('Enter the left operand: '))\n",
        "right_operand = float(input('Enter the right operand: '))\n",
        "result = None\n",
        "if operator == '+':\n",
        "  result = left_operand + right_operand\n",
        "elif operator == '-':\n",
        "  #TODO: complete this line\n",
        "elif (): #TODO: Enter the right condition inside the parentheses\n",
        "  result = left_operand - right_operand\n",
        "elif (operator == '/'):\n",
        "  #TODO: complete this line\n",
        "else:\n",
        "  print('Invalid operator')\n",
        "\n",
        "if result is not None:\n",
        "  print(f'The result is {result}')"
      ],
      "metadata": {
        "colab": {
          "base_uri": "https://localhost:8080/",
          "height": 135
        },
        "id": "DURW9ZTj3DXG",
        "outputId": "93153e3d-99b0-4e9e-ed13-e8e2c4e7e712"
      },
      "execution_count": null,
      "outputs": [
        {
          "output_type": "error",
          "ename": "IndentationError",
          "evalue": "ignored",
          "traceback": [
            "\u001b[0;36m  File \u001b[0;32m\"<ipython-input-5-50d8d3039e54>\"\u001b[0;36m, line \u001b[0;32m9\u001b[0m\n\u001b[0;31m    elif (): #TODO: Enter the right condition inside the parentheses\u001b[0m\n\u001b[0m       ^\u001b[0m\n\u001b[0;31mIndentationError\u001b[0m\u001b[0;31m:\u001b[0m expected an indented block\n"
          ]
        }
      ]
    },
    {
      "cell_type": "markdown",
      "source": [
        "5.  Write a program to display a pattern similar to the following. Here there is 4 lines but number of lines should be entered by user and could be a number between 3, 20.\n",
        "\n",
        "\\*\n",
        "\n",
        "\\*\\*\n",
        "\n",
        "\\*\\*\\*\n",
        "\n",
        "\\*\\*\\*\\*\n",
        "\n",
        "\\*\\*\\*\\*\\*\n",
        "\n",
        "\\*\\*\\*\\*\\*\\*"
      ],
      "metadata": {
        "id": "sgVaQttU7y0y"
      }
    },
    {
      "cell_type": "code",
      "source": [
        "num_lines = int(input('Enter the number of lines : '))\n",
        "for i in range(1, num_lines + 1):\n",
        "  s = ''\n",
        "  for : #TODO: Complete this line\n",
        "    s += '*'\n",
        "  print(s)\n"
      ],
      "metadata": {
        "colab": {
          "base_uri": "https://localhost:8080/"
        },
        "id": "VeHS4xJm57K9",
        "outputId": "2bfd3764-f0a0-4963-bf69-d5b38bc5a493"
      },
      "execution_count": null,
      "outputs": [
        {
          "output_type": "stream",
          "name": "stdout",
          "text": [
            "Enter the number of lines5\n",
            "*\n",
            "**\n",
            "***\n",
            "****\n",
            "*****\n"
          ]
        }
      ]
    },
    {
      "cell_type": "markdown",
      "source": [
        "6. Write a program to display the a patter similar to the following. Here there is 4 lines but number of lines should be entered by user and could be a number between 3 and 5\n",
        "\n",
        "<pre>\n",
        "   1\n",
        "  333\n",
        " 55555\n",
        "7777777\n",
        "</pre>"
      ],
      "metadata": {
        "id": "-P1Nb26d-YHW"
      }
    },
    {
      "cell_type": "code",
      "source": [
        "num_lines = int(input('Enter the number of lines: '))\n",
        "i = 0\n",
        "number = 1\n",
        "while i < num_lines:\n",
        "  s = ''\n",
        "  for j in range(num_lines  - number//2): \n",
        "    #TODO: Complete this line\n",
        "  for : #TODO: Complete this line\n",
        "    s += str(number)\n",
        "  number += 2\n",
        "  i += 1\n",
        "  print(s)\n"
      ],
      "metadata": {
        "colab": {
          "base_uri": "https://localhost:8080/"
        },
        "id": "tAbnzzu092yy",
        "outputId": "69a10be3-3677-4cde-9115-564a9b1c8cc8"
      },
      "execution_count": null,
      "outputs": [
        {
          "output_type": "stream",
          "name": "stdout",
          "text": [
            "Enter the number of lines: 3\n",
            "   1\n",
            "  333\n",
            " 55555\n"
          ]
        }
      ]
    },
    {
      "cell_type": "markdown",
      "source": [
        "7. A number is considered prime if it is larger than 1 and it is only divisible by 1 and itself. Write a program to check if a number is prime.\n"
      ],
      "metadata": {
        "id": "n-fuJGhdCXL4"
      }
    },
    {
      "cell_type": "code",
      "source": [
        "number = int(input('Enter an integer number larger than 1: '))\n",
        "is_prime = True\n",
        "for i in range (2, number):\n",
        "  if number % i == 0:\n",
        "    #TODO: Complete this line\n",
        "    break\n",
        "if : #TODO: Complete this line\n",
        "  print(f'{number}  is prime!')\n",
        "else:\n",
        "  print(f'{number}  is not prime!')\n"
      ],
      "metadata": {
        "colab": {
          "base_uri": "https://localhost:8080/"
        },
        "id": "Hg5iJ6rn-57h",
        "outputId": "5077208b-7a46-47bb-875f-ecc7c3a857e1"
      },
      "execution_count": null,
      "outputs": [
        {
          "name": "stdout",
          "output_type": "stream",
          "text": [
            "Enter an integer number larger than 1: 25\n"
          ]
        }
      ]
    },
    {
      "cell_type": "markdown",
      "source": [
        "8. Organize the previous program as a function.\n",
        "Note: You do not print any thing inside the function. Return True if the number is prime and False if it is not prime.\n"
      ],
      "metadata": {
        "id": "I6QukP6UENrs"
      }
    },
    {
      "cell_type": "code",
      "source": [
        "# Defining the function\n",
        "def prime(numebr):\n",
        "  #TODO: Complete this part\n",
        "  return is_prime\n",
        "\n",
        "#Reading number from user\n",
        "number = int(input('Enter an integer number larger than 1: '))\n",
        "\n",
        "result = prime(number) #Calling function here\n",
        "\n",
        "if result is True:\n",
        "  print(f'{number}  is prime!')\n",
        "else:\n",
        "  print(f'{number}  is not prime!')"
      ],
      "metadata": {
        "id": "QnHLtByGDdRE"
      },
      "execution_count": null,
      "outputs": []
    },
    {
      "cell_type": "markdown",
      "source": [
        "9. Given a list l, write a program that reverses the order of elements in the list. You should use the while loop here."
      ],
      "metadata": {
        "id": "WSpxSecsFW8u"
      }
    },
    {
      "cell_type": "code",
      "source": [
        "l = [1, 12, 30, 40, 5, 6, 7, 34, 2, 98]\n",
        "#TODO: Write the program here"
      ],
      "metadata": {
        "id": "UPMKkzNiFj-S"
      },
      "execution_count": null,
      "outputs": []
    },
    {
      "cell_type": "markdown",
      "source": [
        "10. Convert the program in the previous questions to a function."
      ],
      "metadata": {
        "id": "KFmFRiKtF1Lp"
      }
    },
    {
      "cell_type": "code",
      "source": [
        "def reverse_list(l):\n",
        "  #TODO: Complete the rest of the funciton\n",
        "\n",
        "print(reverse_list(l))"
      ],
      "metadata": {
        "id": "jFwE3T0TF9-G"
      },
      "execution_count": null,
      "outputs": []
    },
    {
      "cell_type": "markdown",
      "source": [
        "11. Redo question 9, this time using for loop."
      ],
      "metadata": {
        "id": "Mbf-gcZTGjWP"
      }
    },
    {
      "cell_type": "code",
      "source": [
        "#TODO: Write the program here"
      ],
      "metadata": {
        "id": "RafJcLn-GPOI"
      },
      "execution_count": null,
      "outputs": []
    },
    {
      "cell_type": "markdown",
      "source": [
        "11. Redo question 10, this time using for loop."
      ],
      "metadata": {
        "id": "nu2slpi9GqpX"
      }
    },
    {
      "cell_type": "code",
      "source": [
        "#TODO: Write the program here"
      ],
      "metadata": {
        "id": "8IsDgj6SGtW1"
      },
      "execution_count": null,
      "outputs": []
    },
    {
      "cell_type": "markdown",
      "source": [
        "12. Find the maximum of the list l using a for loop."
      ],
      "metadata": {
        "id": "ZOo5HeKGVbuN"
      }
    },
    {
      "cell_type": "code",
      "source": [
        "#TODO: Write the program here"
      ],
      "metadata": {
        "id": "c1QTuC-pVg0Y"
      },
      "execution_count": null,
      "outputs": []
    }
  ]
}