{
  "nbformat": 4,
  "nbformat_minor": 0,
  "metadata": {
    "colab": {
      "provenance": [],
      "include_colab_link": true
    },
    "kernelspec": {
      "name": "python3",
      "display_name": "Python 3"
    },
    "language_info": {
      "name": "python"
    }
  },
  "cells": [
    {
      "cell_type": "markdown",
      "metadata": {
        "id": "view-in-github",
        "colab_type": "text"
      },
      "source": [
        "<a href=\"https://colab.research.google.com/github/AtabonfackBernes/SPARK_Projects/blob/main/Assignment_1.ipynb\" target=\"_parent\"><img src=\"https://colab.research.google.com/assets/colab-badge.svg\" alt=\"Open In Colab\"/></a>"
      ]
    },
    {
      "cell_type": "markdown",
      "source": [
        "For some questions there are TODOs that you need to complete. For others you need to write the whole program.\n",
        "\n",
        "\n",
        "Note: If you run the Code cells, you will get an error as they are partially incomplete. You need to first complete them and then run them."
      ],
      "metadata": {
        "id": "wMHWNg_H1k_M"
      }
    },
    {
      "cell_type": "markdown",
      "source": [
        "1. Write a a program to get two integers from the input and check whether they are equal or not."
      ],
      "metadata": {
        "id": "4eXCxPR7viqw"
      }
    },
    {
      "cell_type": "markdown",
      "source": [
        "<h2>Solution Question 1<h2>\n"
      ],
      "metadata": {
        "id": "QP0dZivCg-RK"
      }
    },
    {
      "cell_type": "code",
      "execution_count": 3,
      "metadata": {
        "colab": {
          "base_uri": "https://localhost:8080/"
        },
        "id": "zQTIe3m-vgzk",
        "outputId": "30cc3846-01a0-43eb-d3e5-e730a11e5900"
      },
      "outputs": [
        {
          "output_type": "stream",
          "name": "stdout",
          "text": [
            "Enter the first number: 4\n",
            "Enter the Second number: 6\n",
            "The two number are Not equal\n"
          ]
        }
      ],
      "source": [
        "x = input(\"Enter the first number: \")\n",
        "x = int(x)\n",
        "y =   input(\"Enter the Second number: \")\n",
        "y = int(y)\n",
        "if x == y :\n",
        "  print('The two numbers are equal')\n",
        "else:\n",
        "  print('The two number are Not equal')"
      ]
    },
    {
      "cell_type": "markdown",
      "source": [
        "2. Write a program to read the age of a candidate from the input and determine whether the candidate is eligible for casting vote or not.\n"
      ],
      "metadata": {
        "id": "ONO8Ls_Ayntk"
      }
    },
    {
      "cell_type": "markdown",
      "source": [
        "<h2>Solution Question 2<h2>"
      ],
      "metadata": {
        "id": "RVNPgIUHhd4M"
      }
    },
    {
      "cell_type": "code",
      "source": [
        "\n",
        "age = input(\"Enter the candate age: \")\n",
        "age = int(age)\n",
        "if age > 18:\n",
        "  print('Eligible!')\n",
        "else:\n",
        "  print('Not eligible!')"
      ],
      "metadata": {
        "id": "Q-65ao6Iwb-6",
        "colab": {
          "base_uri": "https://localhost:8080/"
        },
        "outputId": "6af828b4-0381-4609-a9fb-e5f154386406"
      },
      "execution_count": 4,
      "outputs": [
        {
          "output_type": "stream",
          "name": "stdout",
          "text": [
            "Enter the candate age: 4\n",
            "Not eligible!\n"
          ]
        }
      ]
    },
    {
      "cell_type": "markdown",
      "source": [
        "3. Write a program to get a character from the input and check whether it is a alphabet, digit or special character. "
      ],
      "metadata": {
        "id": "PqZiN2Cx0UC4"
      }
    },
    {
      "cell_type": "markdown",
      "source": [
        "<h2>Solution Question 3<h2>"
      ],
      "metadata": {
        "id": "52uJ9465hj_W"
      }
    },
    {
      "cell_type": "code",
      "source": [
        "character = input(\"Enter a character: \")\n",
        "if character.isalpha():\n",
        "  print('Alphabet!')\n",
        "elif character.isnumeric():\n",
        "  print('Digit!')\n",
        "else:\n",
        "  print('Special character!')\n",
        "#Hint: Read the list of methods introduced in the tutorial for working with strings"
      ],
      "metadata": {
        "id": "4iU61LnW0xXL",
        "colab": {
          "base_uri": "https://localhost:8080/"
        },
        "outputId": "8a439530-8aa7-402c-ab26-97541d3950b1"
      },
      "execution_count": 5,
      "outputs": [
        {
          "output_type": "stream",
          "name": "stdout",
          "text": [
            "Enter a character: t\n",
            "Alphabet!\n"
          ]
        }
      ]
    },
    {
      "cell_type": "markdown",
      "source": [
        "4. Write a program to read a month number in integer and print the month name.\n",
        "\n",
        "The month name and numbers are as follwos:\n",
        "* 1: January\n",
        "* 2: February\n",
        "* 3: March\n",
        "* 4: April\n",
        "* 5: May\n",
        "* 6: June\n",
        "* 7: July\n",
        "* 8: August\n",
        "* 9: September\n",
        "* 10: October\n",
        "* 11: November12: December"
      ],
      "metadata": {
        "id": "47tS5-zm2CG4"
      }
    },
    {
      "cell_type": "markdown",
      "source": [
        "<h2>Solution Question 4<h2>"
      ],
      "metadata": {
        "id": "I42EoJ-RhpxA"
      }
    },
    {
      "cell_type": "code",
      "source": [
        "month = {1:'January', 2:'February',3:' March',4:'April',5:'May',6:'June',7:'July',8:'August',9:'September',10:'October',11:'Norvember',12:'December'}\n",
        "val = int(input(\"Enter Month Number:\"))\n",
        "if val in month.keys():\n",
        "  name = month[val]\n",
        "  print(f\"Month Name = {name}\")\n",
        "#TODO: Write the program here"
      ],
      "metadata": {
        "id": "cM-yfCkD0wHs",
        "colab": {
          "base_uri": "https://localhost:8080/"
        },
        "outputId": "5fd9e3c4-5b57-47dc-f802-876c881f73e5"
      },
      "execution_count": 6,
      "outputs": [
        {
          "output_type": "stream",
          "name": "stdout",
          "text": [
            "Enter Month Number:7\n",
            "Month Name = July\n"
          ]
        }
      ]
    },
    {
      "cell_type": "markdown",
      "source": [
        "5. Write a program in to simulate a simple calculator."
      ],
      "metadata": {
        "id": "iIhcCQiP3EnE"
      }
    },
    {
      "cell_type": "markdown",
      "source": [
        "<h2>Solution Question 5.1<h2>"
      ],
      "metadata": {
        "id": "PzVSEpKThzML"
      }
    },
    {
      "cell_type": "code",
      "source": [
        "operator = input('Enter the operator. Valid options include +,- *, abd / : ')\n",
        "left_operand = float(input('Enter the left operand: '))\n",
        "right_operand = float(input('Enter the right operand: '))\n",
        "result = None\n",
        "if operator == '+':\n",
        "  result = left_operand + right_operand\n",
        "elif operator == '-':\n",
        "  result = left_operand - right_operand\n",
        "elif (operator == '*'): \n",
        "  result = left_operand * right_operand\n",
        "elif (operator == '/'):\n",
        "  result = left_operand / right_operand\n",
        "else:\n",
        "  print('Invalid operator')\n",
        "\n",
        "if result is not None:\n",
        "  print(f'The result is {result}')"
      ],
      "metadata": {
        "colab": {
          "base_uri": "https://localhost:8080/"
        },
        "id": "DURW9ZTj3DXG",
        "outputId": "c872df22-547c-4527-b6ba-2704a6ecc507"
      },
      "execution_count": 7,
      "outputs": [
        {
          "output_type": "stream",
          "name": "stdout",
          "text": [
            "Enter the operator. Valid options include +,- *, abd / : -\n",
            "Enter the left operand: 5\n",
            "Enter the right operand: 7\n",
            "The result is -2.0\n"
          ]
        }
      ]
    },
    {
      "cell_type": "markdown",
      "source": [
        "5.  Write a program to display a pattern similar to the following. Here there is 4 lines but number of lines should be entered by user and could be a number between 3, 20.\n",
        "\n",
        "\\*\n",
        "\n",
        "\\*\\*\n",
        "\n",
        "\\*\\*\\*\n",
        "\n",
        "\\*\\*\\*\\*\n",
        "\n",
        "\\*\\*\\*\\*\\*\n",
        "\n",
        "\\*\\*\\*\\*\\*\\*"
      ],
      "metadata": {
        "id": "sgVaQttU7y0y"
      }
    },
    {
      "cell_type": "markdown",
      "source": [
        "<h2>Solution Question 5.2<h2>"
      ],
      "metadata": {
        "id": "tcRXij4RlnKa"
      }
    },
    {
      "cell_type": "code",
      "source": [
        "num_lines = int(input('Enter the number of lines : '))\n",
        "for i in range(1, num_lines + 1):\n",
        "  s = '*'\n",
        "  for j in range(i-1):\n",
        "    s += '*'\n",
        "  print(s)\n"
      ],
      "metadata": {
        "colab": {
          "base_uri": "https://localhost:8080/"
        },
        "id": "VeHS4xJm57K9",
        "outputId": "73f47238-2763-4300-c76a-375fa4829e7b"
      },
      "execution_count": 8,
      "outputs": [
        {
          "output_type": "stream",
          "name": "stdout",
          "text": [
            "Enter the number of lines : 7\n",
            "*\n",
            "**\n",
            "***\n",
            "****\n",
            "*****\n",
            "******\n",
            "*******\n"
          ]
        }
      ]
    },
    {
      "cell_type": "markdown",
      "source": [
        "6. Write a program to display the a patter similar to the following. Here there is 4 lines but number of lines should be entered by user and could be a number between 3 and 5\n",
        "\n",
        "<pre>\n",
        "   1\n",
        "  333\n",
        " 55555\n",
        "7777777\n",
        "</pre>"
      ],
      "metadata": {
        "id": "-P1Nb26d-YHW"
      }
    },
    {
      "cell_type": "markdown",
      "source": [
        "<h2>Solution Question 6<h2>"
      ],
      "metadata": {
        "id": "g-vcIuYXiJuY"
      }
    },
    {
      "cell_type": "code",
      "source": [
        "num_lines = int(input('Enter the number of lines: '))\n",
        "i = 0\n",
        "number = 1\n",
        "while i < num_lines:\n",
        "  s = ''\n",
        "  for j in range(num_lines  - number//2):\n",
        "    print(end =\" \")\n",
        "    #TODO: Complete this line\n",
        "  for l in range(number) : #TODO: Complete this line\n",
        "    s += str(number)\n",
        "  number += 2\n",
        "  i += 1\n",
        "  print(s)\n"
      ],
      "metadata": {
        "colab": {
          "base_uri": "https://localhost:8080/"
        },
        "id": "tAbnzzu092yy",
        "outputId": "12075ca7-ce6a-4375-ee8f-c9ad08cad262"
      },
      "execution_count": 10,
      "outputs": [
        {
          "output_type": "stream",
          "name": "stdout",
          "text": [
            "Enter the number of lines: 5\n",
            "     1\n",
            "    333\n",
            "   55555\n",
            "  7777777\n",
            " 999999999\n"
          ]
        }
      ]
    },
    {
      "cell_type": "markdown",
      "source": [
        "7. A number is considered prime if it is larger than 1 and it is only divisible by 1 and itself. Write a program to check if a number is prime.\n"
      ],
      "metadata": {
        "id": "n-fuJGhdCXL4"
      }
    },
    {
      "cell_type": "code",
      "source": [],
      "metadata": {
        "id": "_mGeui5jiObX"
      },
      "execution_count": 10,
      "outputs": []
    },
    {
      "cell_type": "markdown",
      "source": [
        "<h2>Solution Question 7<h2>"
      ],
      "metadata": {
        "id": "jFUF7reXiQDD"
      }
    },
    {
      "cell_type": "code",
      "source": [
        "number = int(input('Enter an integer number larger than 1: '))\n",
        "is_prime = True\n",
        "for i in range (2, number):\n",
        "  if number % i == 0:\n",
        "    is_prime = False\n",
        "    break\n",
        "if is_prime == True: \n",
        "  print(f'{number}  is prime!')\n",
        "else:\n",
        "  print(f'{number}  is not prime!')\n"
      ],
      "metadata": {
        "colab": {
          "base_uri": "https://localhost:8080/"
        },
        "id": "Hg5iJ6rn-57h",
        "outputId": "406fdfbe-cfa7-494d-ed70-1abec7f5bad3"
      },
      "execution_count": 11,
      "outputs": [
        {
          "output_type": "stream",
          "name": "stdout",
          "text": [
            "Enter an integer number larger than 1: 6\n",
            "6  is not prime!\n"
          ]
        }
      ]
    },
    {
      "cell_type": "markdown",
      "source": [
        "8. Organize the previous program as a function.\n",
        "Note: You do not print any thing inside the function. Return True if the number is prime and False if it is not prime.\n"
      ],
      "metadata": {
        "id": "I6QukP6UENrs"
      }
    },
    {
      "cell_type": "code",
      "source": [],
      "metadata": {
        "id": "2mMBAT_CiWy8"
      },
      "execution_count": 11,
      "outputs": []
    },
    {
      "cell_type": "markdown",
      "source": [
        "<h2>Solution Question 8<h2>"
      ],
      "metadata": {
        "id": "qHEF8wx6iXnS"
      }
    },
    {
      "cell_type": "code",
      "source": [
        "# Defining the function\n",
        "def prime(numebr):\n",
        "  is_prime = True\n",
        "  for i in range (2, number):\n",
        "    if number % i == 0:\n",
        "      is_prime = False\n",
        "      break\n",
        "  return is_prime\n",
        "\n",
        "#Reading number from user\n",
        "number = int(input('Enter an integer number larger than 1: '))\n",
        "\n",
        "result = prime(number) #Calling function here\n",
        "\n",
        "if result is True:\n",
        "  print(f'{number}  is prime!')\n",
        "else:\n",
        "  print(f'{number}  is not prime!')"
      ],
      "metadata": {
        "id": "QnHLtByGDdRE",
        "colab": {
          "base_uri": "https://localhost:8080/"
        },
        "outputId": "f6f7c3ba-56c1-4995-901f-638af5b9ba1a"
      },
      "execution_count": 12,
      "outputs": [
        {
          "output_type": "stream",
          "name": "stdout",
          "text": [
            "Enter an integer number larger than 1: 9\n",
            "9  is not prime!\n"
          ]
        }
      ]
    },
    {
      "cell_type": "markdown",
      "source": [
        "\n",
        "9. Given a list l, write a program that reverses the order of elements in the list. You should use the while loop here."
      ],
      "metadata": {
        "id": "WSpxSecsFW8u"
      }
    },
    {
      "cell_type": "markdown",
      "source": [
        "<h2>Solution Question 9<h2>"
      ],
      "metadata": {
        "id": "-mYYA_Qhicr2"
      }
    },
    {
      "cell_type": "code",
      "source": [
        "l = [1, 12, 30, 40, 5, 6, 7, 34, 2, 98]\n",
        "lenth = len(l)\n",
        "i = 1\n",
        "nl = []\n",
        "while(i<= lenth):\n",
        "  nl.append(l[-i])\n",
        "  i += 1\n",
        "\n",
        "print(nl)\n",
        "\n"
      ],
      "metadata": {
        "id": "UPMKkzNiFj-S",
        "colab": {
          "base_uri": "https://localhost:8080/"
        },
        "outputId": "141067fb-2e62-46f6-84d2-5e78b33dface"
      },
      "execution_count": 13,
      "outputs": [
        {
          "output_type": "stream",
          "name": "stdout",
          "text": [
            "[98, 2, 34, 7, 6, 5, 40, 30, 12, 1]\n"
          ]
        }
      ]
    },
    {
      "cell_type": "markdown",
      "source": [
        "10. Convert the program in the previous questions to a function."
      ],
      "metadata": {
        "id": "KFmFRiKtF1Lp"
      }
    },
    {
      "cell_type": "markdown",
      "source": [
        "<h2>Solution Question 10<h2>"
      ],
      "metadata": {
        "id": "pHxz4BRlkVVY"
      }
    },
    {
      "cell_type": "code",
      "source": [
        "def reverse_list(l):\n",
        "  lenth = len(l)\n",
        "  i = 1\n",
        "  nl = []\n",
        "  while(i<= lenth):\n",
        "    nl.append(l[-i])\n",
        "    i += 1\n",
        "  return nl\n",
        "  #TODO: Complete the rest of the funciton\n",
        "\n",
        "print(reverse_list(l))"
      ],
      "metadata": {
        "id": "jFwE3T0TF9-G",
        "colab": {
          "base_uri": "https://localhost:8080/"
        },
        "outputId": "de6f537a-6856-432e-c7c6-02f103d7166c"
      },
      "execution_count": 15,
      "outputs": [
        {
          "output_type": "stream",
          "name": "stdout",
          "text": [
            "[98, 2, 34, 7, 6, 5, 40, 30, 12, 1]\n"
          ]
        }
      ]
    },
    {
      "cell_type": "markdown",
      "source": [
        "11. Redo question 9, this time using for loop."
      ],
      "metadata": {
        "id": "Mbf-gcZTGjWP"
      }
    },
    {
      "cell_type": "markdown",
      "source": [
        "<h2>Solution Question 11.1<h2>"
      ],
      "metadata": {
        "id": "WYVXxzB_kcij"
      }
    },
    {
      "cell_type": "code",
      "source": [
        "l = [1, 12, 30, 40, 5, 6, 7, 34, 2, 98]\n",
        "nl = []\n",
        "for x in range(len(l)):\n",
        "  x = x+1\n",
        "  nl.append(l[-x])\n",
        "print(\"The reveerse List = \",nl)\n",
        "\n",
        "#TODO: Write the program here"
      ],
      "metadata": {
        "id": "RafJcLn-GPOI",
        "colab": {
          "base_uri": "https://localhost:8080/"
        },
        "outputId": "d1f430e9-83db-4754-b953-a2e585be9133"
      },
      "execution_count": 16,
      "outputs": [
        {
          "output_type": "stream",
          "name": "stdout",
          "text": [
            "The reveerse List =  [98, 2, 34, 7, 6, 5, 40, 30, 12, 1]\n"
          ]
        }
      ]
    },
    {
      "cell_type": "markdown",
      "source": [
        "11. Redo question 10, this time using for loop."
      ],
      "metadata": {
        "id": "nu2slpi9GqpX"
      }
    },
    {
      "cell_type": "markdown",
      "source": [
        "<h2>Solution Question 11.2<h2>"
      ],
      "metadata": {
        "id": "DO6RLkTikj17"
      }
    },
    {
      "cell_type": "code",
      "source": [
        "def reverse_list(l):\n",
        "  nl = []\n",
        "  for x in range(len(l)):\n",
        "    x = x+1\n",
        "    nl.append(l[-x])\n",
        "  return nl\n",
        "\n",
        "reverse_list(l)\n",
        "#TODO: Write the program here"
      ],
      "metadata": {
        "id": "8IsDgj6SGtW1",
        "colab": {
          "base_uri": "https://localhost:8080/"
        },
        "outputId": "a9915374-255f-4605-c4e5-bc46c53cdc0f"
      },
      "execution_count": 17,
      "outputs": [
        {
          "output_type": "execute_result",
          "data": {
            "text/plain": [
              "[98, 2, 34, 7, 6, 5, 40, 30, 12, 1]"
            ]
          },
          "metadata": {},
          "execution_count": 17
        }
      ]
    },
    {
      "cell_type": "markdown",
      "source": [
        "12. Find the maximum of the list l using a for loop."
      ],
      "metadata": {
        "id": "ZOo5HeKGVbuN"
      }
    },
    {
      "cell_type": "markdown",
      "source": [
        "<h2>Solution Question 12<h2>"
      ],
      "metadata": {
        "id": "8y-LLmfjkrUH"
      }
    },
    {
      "cell_type": "code",
      "source": [
        "l = [1, 12, 30, 40, 5, 6, 7, 34, 2, 98]\n",
        "max_val = 0\n",
        "for x in l:\n",
        "  if x > max_val:\n",
        "    max_val = x\n",
        "print(f\"The Maximum Value is {max_val}\")\n",
        "#TODO: Write the program here"
      ],
      "metadata": {
        "id": "c1QTuC-pVg0Y",
        "colab": {
          "base_uri": "https://localhost:8080/"
        },
        "outputId": "73cc299d-def1-4b02-a3c4-e5a2758a930b"
      },
      "execution_count": 18,
      "outputs": [
        {
          "output_type": "stream",
          "name": "stdout",
          "text": [
            "The Maximum Value is 98\n"
          ]
        }
      ]
    }
  ]
}